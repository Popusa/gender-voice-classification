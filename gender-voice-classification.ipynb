{
 "cells": [
  {
   "cell_type": "markdown",
   "id": "23ef7fcb",
   "metadata": {},
   "source": [
    "# Classifying voices based on their features\n",
    "\n",
    "### By: Daniel Youssef\n",
    "\n",
    "Dataset Source: https://www.kaggle.com/datasets/primaryobjects/voicegender\n",
    "\n",
    "This dataset consists of several acoustic properties that make up human sounds. In order to classify these voices correctly, three different classification algorithms will be used to train three models, and three evaluation scores will be used to compare the models in order to find the best possible one.\n",
    "\n",
    "In this dataset, there are 21 features (including the target class). Here is a breakdown of each feature name, which was provided from the data source:\n",
    "\n",
    "1. meanfreq: mean frequency (in kHz)\n",
    "\n",
    "2. sd: standard deviation of frequency\n",
    "\n",
    "3. median: median frequency (in kHz)\n",
    "\n",
    "4. Q25: first quantile (in kHz)\n",
    "\n",
    "5. Q75: third quantile (in kHz)\n",
    "\n",
    "6. IQR: interquantile range (in kHz)\n",
    "\n",
    "7. skew: skewness\n",
    "\n",
    "8. kurt: kurtosis\n",
    "\n",
    "9. sp.ent: spectral entropy\n",
    "\n",
    "10. sfm: spectral flatness\n",
    "\n",
    "11. centroid: frequency centroid (see specprop)\n",
    "\n",
    "12. peakf: peak frequency (frequency with highest energy)\n",
    "\n",
    "13. meanfun: average of fundamental frequency measured across acoustic signal\n",
    "\n",
    "14. minfun: minimum fundamental frequency measured across acoustic signal\n",
    "\n",
    "15. maxfun: maximum fundamental frequency measured across acoustic signal\n",
    "\n",
    "16. meandom: average of dominant frequency measured across acoustic signal\n",
    "\n",
    "17. mindom: minimum of dominant frequency measured across acoustic signal\n",
    "\n",
    "18. maxdom: maximum of dominant frequency measured across acoustic signal\n",
    "\n",
    "19. dfrange: range of dominant frequency measured across acoustic signal\n",
    "\n",
    "20. modindx: modulation index. Calculated as the accumulated absolute difference between adjacent measurements of fundamental frequencies divided by the frequency range\n",
    "\n",
    "21. label: male or female\n",
    "\n",
    "\n"
   ]
  },
  {
   "cell_type": "markdown",
   "id": "bf10f143",
   "metadata": {},
   "source": [
    "important note: After some research into the origins of the dataset, I found out that the duration for each recording is standardized at 20 seconds, and the peak frequency is standardized at zero, which is why these features are not present in the dataset."
   ]
  },
  {
   "cell_type": "markdown",
   "id": "a5645e0b",
   "metadata": {},
   "source": [
    "For this dataset, these will be the goals of my notebook:\n",
    "\n",
    "1. Finding out the difference(s) that seperate male voices from female voices\n",
    "\n",
    "2. Making sure the data is clean enough to not cause any errors or inaccuracies for training and testing\n",
    "\n",
    "3. Coming up with a machine learning model that has the highest accuracy for classifying different voices\n",
    "\n",
    "These are the following steps that will be taken:\n",
    "\n",
    "1. Importing Libraries\n",
    "2. Data Cleaning\n",
    "3. Data Visualization\n",
    "4. Model Training (No Feature Selection)\n",
    "5. Model Testing (No Feature Selection)\n",
    "6. Feature Selection\n",
    "7. Model Training (With Feature Selection)\n",
    "8. Model Testing (With Feature Selection)\n",
    "9. Comparison And Analysis of Results\n",
    "10. Conclusion"
   ]
  },
  {
   "cell_type": "markdown",
   "id": "348aa537",
   "metadata": {},
   "source": [
    "### Importing Libraries and reading dataset"
   ]
  },
  {
   "cell_type": "code",
   "execution_count": 1,
   "id": "65f4395c",
   "metadata": {},
   "outputs": [],
   "source": [
    "import pandas as pd\n",
    "import numpy as np\n",
    "import matplotlib.pyplot as plt\n",
    "import seaborn as sns\n",
    "from sklearn.model_selection import train_test_split, learning_curve\n",
    "from sklearn.tree import DecisionTreeClassifier\n",
    "from sklearn.neighbors import KNeighborsClassifier\n",
    "from sklearn.linear_model import LogisticRegression\n",
    "from sklearn import metrics\n",
    "from sklearn.metrics import plot_confusion_matrix\n",
    "from sklearn.metrics import classification_report"
   ]
  },
  {
   "cell_type": "code",
   "execution_count": 2,
   "id": "dd721d7a",
   "metadata": {},
   "outputs": [],
   "source": [
    "df = pd.read_csv(\"voice.csv\")"
   ]
  },
  {
   "cell_type": "code",
   "execution_count": 3,
   "id": "0f88cfdf",
   "metadata": {},
   "outputs": [
    {
     "data": {
      "text/html": [
       "<div>\n",
       "<style scoped>\n",
       "    .dataframe tbody tr th:only-of-type {\n",
       "        vertical-align: middle;\n",
       "    }\n",
       "\n",
       "    .dataframe tbody tr th {\n",
       "        vertical-align: top;\n",
       "    }\n",
       "\n",
       "    .dataframe thead th {\n",
       "        text-align: right;\n",
       "    }\n",
       "</style>\n",
       "<table border=\"1\" class=\"dataframe\">\n",
       "  <thead>\n",
       "    <tr style=\"text-align: right;\">\n",
       "      <th></th>\n",
       "      <th>meanfreq</th>\n",
       "      <th>sd</th>\n",
       "      <th>median</th>\n",
       "      <th>Q25</th>\n",
       "      <th>Q75</th>\n",
       "      <th>IQR</th>\n",
       "      <th>skew</th>\n",
       "      <th>kurt</th>\n",
       "      <th>sp.ent</th>\n",
       "      <th>sfm</th>\n",
       "      <th>...</th>\n",
       "      <th>centroid</th>\n",
       "      <th>meanfun</th>\n",
       "      <th>minfun</th>\n",
       "      <th>maxfun</th>\n",
       "      <th>meandom</th>\n",
       "      <th>mindom</th>\n",
       "      <th>maxdom</th>\n",
       "      <th>dfrange</th>\n",
       "      <th>modindx</th>\n",
       "      <th>label</th>\n",
       "    </tr>\n",
       "  </thead>\n",
       "  <tbody>\n",
       "    <tr>\n",
       "      <th>0</th>\n",
       "      <td>0.059781</td>\n",
       "      <td>0.064241</td>\n",
       "      <td>0.032027</td>\n",
       "      <td>0.015071</td>\n",
       "      <td>0.090193</td>\n",
       "      <td>0.075122</td>\n",
       "      <td>12.863462</td>\n",
       "      <td>274.402905</td>\n",
       "      <td>0.893369</td>\n",
       "      <td>0.491918</td>\n",
       "      <td>...</td>\n",
       "      <td>0.059781</td>\n",
       "      <td>0.084279</td>\n",
       "      <td>0.015702</td>\n",
       "      <td>0.275862</td>\n",
       "      <td>0.007812</td>\n",
       "      <td>0.007812</td>\n",
       "      <td>0.007812</td>\n",
       "      <td>0.000000</td>\n",
       "      <td>0.000000</td>\n",
       "      <td>male</td>\n",
       "    </tr>\n",
       "    <tr>\n",
       "      <th>1</th>\n",
       "      <td>0.066009</td>\n",
       "      <td>0.067310</td>\n",
       "      <td>0.040229</td>\n",
       "      <td>0.019414</td>\n",
       "      <td>0.092666</td>\n",
       "      <td>0.073252</td>\n",
       "      <td>22.423285</td>\n",
       "      <td>634.613855</td>\n",
       "      <td>0.892193</td>\n",
       "      <td>0.513724</td>\n",
       "      <td>...</td>\n",
       "      <td>0.066009</td>\n",
       "      <td>0.107937</td>\n",
       "      <td>0.015826</td>\n",
       "      <td>0.250000</td>\n",
       "      <td>0.009014</td>\n",
       "      <td>0.007812</td>\n",
       "      <td>0.054688</td>\n",
       "      <td>0.046875</td>\n",
       "      <td>0.052632</td>\n",
       "      <td>male</td>\n",
       "    </tr>\n",
       "    <tr>\n",
       "      <th>2</th>\n",
       "      <td>0.077316</td>\n",
       "      <td>0.083829</td>\n",
       "      <td>0.036718</td>\n",
       "      <td>0.008701</td>\n",
       "      <td>0.131908</td>\n",
       "      <td>0.123207</td>\n",
       "      <td>30.757155</td>\n",
       "      <td>1024.927705</td>\n",
       "      <td>0.846389</td>\n",
       "      <td>0.478905</td>\n",
       "      <td>...</td>\n",
       "      <td>0.077316</td>\n",
       "      <td>0.098706</td>\n",
       "      <td>0.015656</td>\n",
       "      <td>0.271186</td>\n",
       "      <td>0.007990</td>\n",
       "      <td>0.007812</td>\n",
       "      <td>0.015625</td>\n",
       "      <td>0.007812</td>\n",
       "      <td>0.046512</td>\n",
       "      <td>male</td>\n",
       "    </tr>\n",
       "    <tr>\n",
       "      <th>3</th>\n",
       "      <td>0.151228</td>\n",
       "      <td>0.072111</td>\n",
       "      <td>0.158011</td>\n",
       "      <td>0.096582</td>\n",
       "      <td>0.207955</td>\n",
       "      <td>0.111374</td>\n",
       "      <td>1.232831</td>\n",
       "      <td>4.177296</td>\n",
       "      <td>0.963322</td>\n",
       "      <td>0.727232</td>\n",
       "      <td>...</td>\n",
       "      <td>0.151228</td>\n",
       "      <td>0.088965</td>\n",
       "      <td>0.017798</td>\n",
       "      <td>0.250000</td>\n",
       "      <td>0.201497</td>\n",
       "      <td>0.007812</td>\n",
       "      <td>0.562500</td>\n",
       "      <td>0.554688</td>\n",
       "      <td>0.247119</td>\n",
       "      <td>male</td>\n",
       "    </tr>\n",
       "    <tr>\n",
       "      <th>4</th>\n",
       "      <td>0.135120</td>\n",
       "      <td>0.079146</td>\n",
       "      <td>0.124656</td>\n",
       "      <td>0.078720</td>\n",
       "      <td>0.206045</td>\n",
       "      <td>0.127325</td>\n",
       "      <td>1.101174</td>\n",
       "      <td>4.333713</td>\n",
       "      <td>0.971955</td>\n",
       "      <td>0.783568</td>\n",
       "      <td>...</td>\n",
       "      <td>0.135120</td>\n",
       "      <td>0.106398</td>\n",
       "      <td>0.016931</td>\n",
       "      <td>0.266667</td>\n",
       "      <td>0.712812</td>\n",
       "      <td>0.007812</td>\n",
       "      <td>5.484375</td>\n",
       "      <td>5.476562</td>\n",
       "      <td>0.208274</td>\n",
       "      <td>male</td>\n",
       "    </tr>\n",
       "  </tbody>\n",
       "</table>\n",
       "<p>5 rows × 21 columns</p>\n",
       "</div>"
      ],
      "text/plain": [
       "   meanfreq        sd    median       Q25       Q75       IQR       skew  \\\n",
       "0  0.059781  0.064241  0.032027  0.015071  0.090193  0.075122  12.863462   \n",
       "1  0.066009  0.067310  0.040229  0.019414  0.092666  0.073252  22.423285   \n",
       "2  0.077316  0.083829  0.036718  0.008701  0.131908  0.123207  30.757155   \n",
       "3  0.151228  0.072111  0.158011  0.096582  0.207955  0.111374   1.232831   \n",
       "4  0.135120  0.079146  0.124656  0.078720  0.206045  0.127325   1.101174   \n",
       "\n",
       "          kurt    sp.ent       sfm  ...  centroid   meanfun    minfun  \\\n",
       "0   274.402905  0.893369  0.491918  ...  0.059781  0.084279  0.015702   \n",
       "1   634.613855  0.892193  0.513724  ...  0.066009  0.107937  0.015826   \n",
       "2  1024.927705  0.846389  0.478905  ...  0.077316  0.098706  0.015656   \n",
       "3     4.177296  0.963322  0.727232  ...  0.151228  0.088965  0.017798   \n",
       "4     4.333713  0.971955  0.783568  ...  0.135120  0.106398  0.016931   \n",
       "\n",
       "     maxfun   meandom    mindom    maxdom   dfrange   modindx  label  \n",
       "0  0.275862  0.007812  0.007812  0.007812  0.000000  0.000000   male  \n",
       "1  0.250000  0.009014  0.007812  0.054688  0.046875  0.052632   male  \n",
       "2  0.271186  0.007990  0.007812  0.015625  0.007812  0.046512   male  \n",
       "3  0.250000  0.201497  0.007812  0.562500  0.554688  0.247119   male  \n",
       "4  0.266667  0.712812  0.007812  5.484375  5.476562  0.208274   male  \n",
       "\n",
       "[5 rows x 21 columns]"
      ]
     },
     "execution_count": 3,
     "metadata": {},
     "output_type": "execute_result"
    }
   ],
   "source": [
    "df.head()"
   ]
  },
  {
   "cell_type": "code",
   "execution_count": 4,
   "id": "96da2cf3",
   "metadata": {},
   "outputs": [
    {
     "data": {
      "text/plain": [
       "(3168, 21)"
      ]
     },
     "execution_count": 4,
     "metadata": {},
     "output_type": "execute_result"
    }
   ],
   "source": [
    "df.shape"
   ]
  },
  {
   "cell_type": "markdown",
   "id": "0a8a335c",
   "metadata": {},
   "source": [
    "### Data Cleaning\n"
   ]
  },
  {
   "cell_type": "markdown",
   "id": "8bd42a2a",
   "metadata": {},
   "source": [
    "First: checking for duplicated values, as well as missing values"
   ]
  },
  {
   "cell_type": "code",
   "execution_count": 5,
   "id": "c72003e2",
   "metadata": {},
   "outputs": [
    {
     "data": {
      "text/html": [
       "<div>\n",
       "<style scoped>\n",
       "    .dataframe tbody tr th:only-of-type {\n",
       "        vertical-align: middle;\n",
       "    }\n",
       "\n",
       "    .dataframe tbody tr th {\n",
       "        vertical-align: top;\n",
       "    }\n",
       "\n",
       "    .dataframe thead th {\n",
       "        text-align: right;\n",
       "    }\n",
       "</style>\n",
       "<table border=\"1\" class=\"dataframe\">\n",
       "  <thead>\n",
       "    <tr style=\"text-align: right;\">\n",
       "      <th></th>\n",
       "      <th>meanfreq</th>\n",
       "      <th>sd</th>\n",
       "      <th>median</th>\n",
       "      <th>Q25</th>\n",
       "      <th>Q75</th>\n",
       "      <th>IQR</th>\n",
       "      <th>skew</th>\n",
       "      <th>kurt</th>\n",
       "      <th>sp.ent</th>\n",
       "      <th>sfm</th>\n",
       "      <th>...</th>\n",
       "      <th>centroid</th>\n",
       "      <th>meanfun</th>\n",
       "      <th>minfun</th>\n",
       "      <th>maxfun</th>\n",
       "      <th>meandom</th>\n",
       "      <th>mindom</th>\n",
       "      <th>maxdom</th>\n",
       "      <th>dfrange</th>\n",
       "      <th>modindx</th>\n",
       "      <th>label</th>\n",
       "    </tr>\n",
       "  </thead>\n",
       "  <tbody>\n",
       "    <tr>\n",
       "      <th>298</th>\n",
       "      <td>0.213732</td>\n",
       "      <td>0.057705</td>\n",
       "      <td>0.242573</td>\n",
       "      <td>0.141701</td>\n",
       "      <td>0.257984</td>\n",
       "      <td>0.116283</td>\n",
       "      <td>2.113598</td>\n",
       "      <td>7.890927</td>\n",
       "      <td>0.859712</td>\n",
       "      <td>0.084934</td>\n",
       "      <td>...</td>\n",
       "      <td>0.213732</td>\n",
       "      <td>0.133667</td>\n",
       "      <td>0.028319</td>\n",
       "      <td>0.253968</td>\n",
       "      <td>0.818125</td>\n",
       "      <td>0.132812</td>\n",
       "      <td>4.164062</td>\n",
       "      <td>4.031250</td>\n",
       "      <td>0.229051</td>\n",
       "      <td>male</td>\n",
       "    </tr>\n",
       "    <tr>\n",
       "      <th>2403</th>\n",
       "      <td>0.212190</td>\n",
       "      <td>0.043190</td>\n",
       "      <td>0.215153</td>\n",
       "      <td>0.188957</td>\n",
       "      <td>0.245644</td>\n",
       "      <td>0.056687</td>\n",
       "      <td>1.862573</td>\n",
       "      <td>6.109790</td>\n",
       "      <td>0.877669</td>\n",
       "      <td>0.314398</td>\n",
       "      <td>...</td>\n",
       "      <td>0.212190</td>\n",
       "      <td>0.139942</td>\n",
       "      <td>0.047198</td>\n",
       "      <td>0.279070</td>\n",
       "      <td>1.925551</td>\n",
       "      <td>0.023438</td>\n",
       "      <td>15.609375</td>\n",
       "      <td>15.585938</td>\n",
       "      <td>0.121344</td>\n",
       "      <td>female</td>\n",
       "    </tr>\n",
       "  </tbody>\n",
       "</table>\n",
       "<p>2 rows × 21 columns</p>\n",
       "</div>"
      ],
      "text/plain": [
       "      meanfreq        sd    median       Q25       Q75       IQR      skew  \\\n",
       "298   0.213732  0.057705  0.242573  0.141701  0.257984  0.116283  2.113598   \n",
       "2403  0.212190  0.043190  0.215153  0.188957  0.245644  0.056687  1.862573   \n",
       "\n",
       "          kurt    sp.ent       sfm  ...  centroid   meanfun    minfun  \\\n",
       "298   7.890927  0.859712  0.084934  ...  0.213732  0.133667  0.028319   \n",
       "2403  6.109790  0.877669  0.314398  ...  0.212190  0.139942  0.047198   \n",
       "\n",
       "        maxfun   meandom    mindom     maxdom    dfrange   modindx   label  \n",
       "298   0.253968  0.818125  0.132812   4.164062   4.031250  0.229051    male  \n",
       "2403  0.279070  1.925551  0.023438  15.609375  15.585938  0.121344  female  \n",
       "\n",
       "[2 rows x 21 columns]"
      ]
     },
     "execution_count": 5,
     "metadata": {},
     "output_type": "execute_result"
    }
   ],
   "source": [
    "df[df.duplicated()]"
   ]
  },
  {
   "cell_type": "code",
   "execution_count": 6,
   "id": "0e2dd9d8",
   "metadata": {},
   "outputs": [],
   "source": [
    "df.drop_duplicates(inplace = True)"
   ]
  },
  {
   "cell_type": "code",
   "execution_count": 7,
   "id": "2537ae7b",
   "metadata": {
    "scrolled": true
   },
   "outputs": [
    {
     "data": {
      "text/plain": [
       "meanfreq    0\n",
       "sd          0\n",
       "median      0\n",
       "Q25         0\n",
       "Q75         0\n",
       "IQR         0\n",
       "skew        0\n",
       "kurt        0\n",
       "sp.ent      0\n",
       "sfm         0\n",
       "mode        0\n",
       "centroid    0\n",
       "meanfun     0\n",
       "minfun      0\n",
       "maxfun      0\n",
       "meandom     0\n",
       "mindom      0\n",
       "maxdom      0\n",
       "dfrange     0\n",
       "modindx     0\n",
       "label       0\n",
       "dtype: int64"
      ]
     },
     "execution_count": 7,
     "metadata": {},
     "output_type": "execute_result"
    }
   ],
   "source": [
    "df.isnull().sum()"
   ]
  },
  {
   "cell_type": "code",
   "execution_count": 8,
   "id": "89a67e7e",
   "metadata": {
    "scrolled": true
   },
   "outputs": [
    {
     "data": {
      "text/html": [
       "<div>\n",
       "<style scoped>\n",
       "    .dataframe tbody tr th:only-of-type {\n",
       "        vertical-align: middle;\n",
       "    }\n",
       "\n",
       "    .dataframe tbody tr th {\n",
       "        vertical-align: top;\n",
       "    }\n",
       "\n",
       "    .dataframe thead th {\n",
       "        text-align: right;\n",
       "    }\n",
       "</style>\n",
       "<table border=\"1\" class=\"dataframe\">\n",
       "  <thead>\n",
       "    <tr style=\"text-align: right;\">\n",
       "      <th></th>\n",
       "      <th>meanfreq</th>\n",
       "      <th>sd</th>\n",
       "      <th>median</th>\n",
       "      <th>Q25</th>\n",
       "      <th>Q75</th>\n",
       "      <th>IQR</th>\n",
       "      <th>skew</th>\n",
       "      <th>kurt</th>\n",
       "      <th>sp.ent</th>\n",
       "      <th>sfm</th>\n",
       "      <th>mode</th>\n",
       "      <th>centroid</th>\n",
       "      <th>meanfun</th>\n",
       "      <th>minfun</th>\n",
       "      <th>maxfun</th>\n",
       "      <th>meandom</th>\n",
       "      <th>mindom</th>\n",
       "      <th>maxdom</th>\n",
       "      <th>dfrange</th>\n",
       "      <th>modindx</th>\n",
       "    </tr>\n",
       "  </thead>\n",
       "  <tbody>\n",
       "    <tr>\n",
       "      <th>count</th>\n",
       "      <td>3166.000000</td>\n",
       "      <td>3166.000000</td>\n",
       "      <td>3166.000000</td>\n",
       "      <td>3166.000000</td>\n",
       "      <td>3166.000000</td>\n",
       "      <td>3166.000000</td>\n",
       "      <td>3166.000000</td>\n",
       "      <td>3166.000000</td>\n",
       "      <td>3166.000000</td>\n",
       "      <td>3166.000000</td>\n",
       "      <td>3166.000000</td>\n",
       "      <td>3166.000000</td>\n",
       "      <td>3166.000000</td>\n",
       "      <td>3166.000000</td>\n",
       "      <td>3166.000000</td>\n",
       "      <td>3166.000000</td>\n",
       "      <td>3166.000000</td>\n",
       "      <td>3166.000000</td>\n",
       "      <td>3166.000000</td>\n",
       "      <td>3166.000000</td>\n",
       "    </tr>\n",
       "    <tr>\n",
       "      <th>mean</th>\n",
       "      <td>0.180886</td>\n",
       "      <td>0.057130</td>\n",
       "      <td>0.185593</td>\n",
       "      <td>0.140440</td>\n",
       "      <td>0.224748</td>\n",
       "      <td>0.084308</td>\n",
       "      <td>3.140895</td>\n",
       "      <td>36.587139</td>\n",
       "      <td>0.895144</td>\n",
       "      <td>0.408348</td>\n",
       "      <td>0.165248</td>\n",
       "      <td>0.180886</td>\n",
       "      <td>0.142811</td>\n",
       "      <td>0.036801</td>\n",
       "      <td>0.258837</td>\n",
       "      <td>0.828868</td>\n",
       "      <td>0.052631</td>\n",
       "      <td>5.044220</td>\n",
       "      <td>4.991589</td>\n",
       "      <td>0.173751</td>\n",
       "    </tr>\n",
       "    <tr>\n",
       "      <th>std</th>\n",
       "      <td>0.029916</td>\n",
       "      <td>0.016656</td>\n",
       "      <td>0.036354</td>\n",
       "      <td>0.048687</td>\n",
       "      <td>0.023636</td>\n",
       "      <td>0.042790</td>\n",
       "      <td>4.241768</td>\n",
       "      <td>134.969236</td>\n",
       "      <td>0.044988</td>\n",
       "      <td>0.177476</td>\n",
       "      <td>0.077212</td>\n",
       "      <td>0.029916</td>\n",
       "      <td>0.032314</td>\n",
       "      <td>0.019225</td>\n",
       "      <td>0.030085</td>\n",
       "      <td>0.525009</td>\n",
       "      <td>0.063301</td>\n",
       "      <td>3.517226</td>\n",
       "      <td>3.516072</td>\n",
       "      <td>0.119484</td>\n",
       "    </tr>\n",
       "    <tr>\n",
       "      <th>min</th>\n",
       "      <td>0.039363</td>\n",
       "      <td>0.018363</td>\n",
       "      <td>0.010975</td>\n",
       "      <td>0.000229</td>\n",
       "      <td>0.042946</td>\n",
       "      <td>0.014558</td>\n",
       "      <td>0.141735</td>\n",
       "      <td>2.068455</td>\n",
       "      <td>0.738651</td>\n",
       "      <td>0.036876</td>\n",
       "      <td>0.000000</td>\n",
       "      <td>0.039363</td>\n",
       "      <td>0.055565</td>\n",
       "      <td>0.009775</td>\n",
       "      <td>0.103093</td>\n",
       "      <td>0.007812</td>\n",
       "      <td>0.004883</td>\n",
       "      <td>0.007812</td>\n",
       "      <td>0.000000</td>\n",
       "      <td>0.000000</td>\n",
       "    </tr>\n",
       "    <tr>\n",
       "      <th>25%</th>\n",
       "      <td>0.163650</td>\n",
       "      <td>0.041942</td>\n",
       "      <td>0.169578</td>\n",
       "      <td>0.111086</td>\n",
       "      <td>0.208740</td>\n",
       "      <td>0.042538</td>\n",
       "      <td>1.649353</td>\n",
       "      <td>5.666817</td>\n",
       "      <td>0.861823</td>\n",
       "      <td>0.258126</td>\n",
       "      <td>0.118008</td>\n",
       "      <td>0.163650</td>\n",
       "      <td>0.116990</td>\n",
       "      <td>0.018223</td>\n",
       "      <td>0.253968</td>\n",
       "      <td>0.419640</td>\n",
       "      <td>0.007812</td>\n",
       "      <td>2.070312</td>\n",
       "      <td>2.041016</td>\n",
       "      <td>0.099726</td>\n",
       "    </tr>\n",
       "    <tr>\n",
       "      <th>50%</th>\n",
       "      <td>0.184814</td>\n",
       "      <td>0.059162</td>\n",
       "      <td>0.190016</td>\n",
       "      <td>0.140255</td>\n",
       "      <td>0.225668</td>\n",
       "      <td>0.094280</td>\n",
       "      <td>2.197623</td>\n",
       "      <td>8.327893</td>\n",
       "      <td>0.901823</td>\n",
       "      <td>0.396472</td>\n",
       "      <td>0.186530</td>\n",
       "      <td>0.184814</td>\n",
       "      <td>0.140585</td>\n",
       "      <td>0.046110</td>\n",
       "      <td>0.271186</td>\n",
       "      <td>0.765625</td>\n",
       "      <td>0.023438</td>\n",
       "      <td>4.992188</td>\n",
       "      <td>4.945312</td>\n",
       "      <td>0.139357</td>\n",
       "    </tr>\n",
       "    <tr>\n",
       "      <th>75%</th>\n",
       "      <td>0.199118</td>\n",
       "      <td>0.067023</td>\n",
       "      <td>0.210588</td>\n",
       "      <td>0.175931</td>\n",
       "      <td>0.243640</td>\n",
       "      <td>0.114168</td>\n",
       "      <td>2.932527</td>\n",
       "      <td>13.649803</td>\n",
       "      <td>0.928717</td>\n",
       "      <td>0.533795</td>\n",
       "      <td>0.221070</td>\n",
       "      <td>0.199118</td>\n",
       "      <td>0.169605</td>\n",
       "      <td>0.047904</td>\n",
       "      <td>0.277457</td>\n",
       "      <td>1.176824</td>\n",
       "      <td>0.070312</td>\n",
       "      <td>7.005859</td>\n",
       "      <td>6.992188</td>\n",
       "      <td>0.209141</td>\n",
       "    </tr>\n",
       "    <tr>\n",
       "      <th>max</th>\n",
       "      <td>0.251124</td>\n",
       "      <td>0.115273</td>\n",
       "      <td>0.261224</td>\n",
       "      <td>0.247347</td>\n",
       "      <td>0.273469</td>\n",
       "      <td>0.252225</td>\n",
       "      <td>34.725453</td>\n",
       "      <td>1309.612887</td>\n",
       "      <td>0.981997</td>\n",
       "      <td>0.842936</td>\n",
       "      <td>0.280000</td>\n",
       "      <td>0.251124</td>\n",
       "      <td>0.237636</td>\n",
       "      <td>0.204082</td>\n",
       "      <td>0.279114</td>\n",
       "      <td>2.957682</td>\n",
       "      <td>0.458984</td>\n",
       "      <td>21.867188</td>\n",
       "      <td>21.843750</td>\n",
       "      <td>0.932374</td>\n",
       "    </tr>\n",
       "  </tbody>\n",
       "</table>\n",
       "</div>"
      ],
      "text/plain": [
       "          meanfreq           sd       median          Q25          Q75  \\\n",
       "count  3166.000000  3166.000000  3166.000000  3166.000000  3166.000000   \n",
       "mean      0.180886     0.057130     0.185593     0.140440     0.224748   \n",
       "std       0.029916     0.016656     0.036354     0.048687     0.023636   \n",
       "min       0.039363     0.018363     0.010975     0.000229     0.042946   \n",
       "25%       0.163650     0.041942     0.169578     0.111086     0.208740   \n",
       "50%       0.184814     0.059162     0.190016     0.140255     0.225668   \n",
       "75%       0.199118     0.067023     0.210588     0.175931     0.243640   \n",
       "max       0.251124     0.115273     0.261224     0.247347     0.273469   \n",
       "\n",
       "               IQR         skew         kurt       sp.ent          sfm  \\\n",
       "count  3166.000000  3166.000000  3166.000000  3166.000000  3166.000000   \n",
       "mean      0.084308     3.140895    36.587139     0.895144     0.408348   \n",
       "std       0.042790     4.241768   134.969236     0.044988     0.177476   \n",
       "min       0.014558     0.141735     2.068455     0.738651     0.036876   \n",
       "25%       0.042538     1.649353     5.666817     0.861823     0.258126   \n",
       "50%       0.094280     2.197623     8.327893     0.901823     0.396472   \n",
       "75%       0.114168     2.932527    13.649803     0.928717     0.533795   \n",
       "max       0.252225    34.725453  1309.612887     0.981997     0.842936   \n",
       "\n",
       "              mode     centroid      meanfun       minfun       maxfun  \\\n",
       "count  3166.000000  3166.000000  3166.000000  3166.000000  3166.000000   \n",
       "mean      0.165248     0.180886     0.142811     0.036801     0.258837   \n",
       "std       0.077212     0.029916     0.032314     0.019225     0.030085   \n",
       "min       0.000000     0.039363     0.055565     0.009775     0.103093   \n",
       "25%       0.118008     0.163650     0.116990     0.018223     0.253968   \n",
       "50%       0.186530     0.184814     0.140585     0.046110     0.271186   \n",
       "75%       0.221070     0.199118     0.169605     0.047904     0.277457   \n",
       "max       0.280000     0.251124     0.237636     0.204082     0.279114   \n",
       "\n",
       "           meandom       mindom       maxdom      dfrange      modindx  \n",
       "count  3166.000000  3166.000000  3166.000000  3166.000000  3166.000000  \n",
       "mean      0.828868     0.052631     5.044220     4.991589     0.173751  \n",
       "std       0.525009     0.063301     3.517226     3.516072     0.119484  \n",
       "min       0.007812     0.004883     0.007812     0.000000     0.000000  \n",
       "25%       0.419640     0.007812     2.070312     2.041016     0.099726  \n",
       "50%       0.765625     0.023438     4.992188     4.945312     0.139357  \n",
       "75%       1.176824     0.070312     7.005859     6.992188     0.209141  \n",
       "max       2.957682     0.458984    21.867188    21.843750     0.932374  "
      ]
     },
     "execution_count": 8,
     "metadata": {},
     "output_type": "execute_result"
    }
   ],
   "source": [
    "df.describe()"
   ]
  },
  {
   "cell_type": "code",
   "execution_count": 9,
   "id": "66e8abdb",
   "metadata": {},
   "outputs": [
    {
     "data": {
      "text/plain": [
       "meanfreq    float64\n",
       "sd          float64\n",
       "median      float64\n",
       "Q25         float64\n",
       "Q75         float64\n",
       "IQR         float64\n",
       "skew        float64\n",
       "kurt        float64\n",
       "sp.ent      float64\n",
       "sfm         float64\n",
       "mode        float64\n",
       "centroid    float64\n",
       "meanfun     float64\n",
       "minfun      float64\n",
       "maxfun      float64\n",
       "meandom     float64\n",
       "mindom      float64\n",
       "maxdom      float64\n",
       "dfrange     float64\n",
       "modindx     float64\n",
       "label        object\n",
       "dtype: object"
      ]
     },
     "execution_count": 9,
     "metadata": {},
     "output_type": "execute_result"
    }
   ],
   "source": [
    "df.dtypes"
   ]
  },
  {
   "cell_type": "markdown",
   "id": "758222fa",
   "metadata": {},
   "source": [
    "### Data Visualization"
   ]
  },
  {
   "cell_type": "markdown",
   "id": "13eb97b3",
   "metadata": {},
   "source": [
    "### 1. Distribution of classes"
   ]
  },
  {
   "cell_type": "markdown",
   "id": "f319e38c",
   "metadata": {},
   "source": [
    "Target cannot be visualized while it is of type \"object\", so it will be temporarily converted"
   ]
  },
  {
   "cell_type": "code",
   "execution_count": 10,
   "id": "9c101b87",
   "metadata": {
    "scrolled": false
   },
   "outputs": [
    {
     "data": {
      "text/plain": [
       "meanfreq    float64\n",
       "sd          float64\n",
       "median      float64\n",
       "Q25         float64\n",
       "Q75         float64\n",
       "IQR         float64\n",
       "skew        float64\n",
       "kurt        float64\n",
       "sp.ent      float64\n",
       "sfm         float64\n",
       "mode        float64\n",
       "centroid    float64\n",
       "meanfun     float64\n",
       "minfun      float64\n",
       "maxfun      float64\n",
       "meandom     float64\n",
       "mindom      float64\n",
       "maxdom      float64\n",
       "dfrange     float64\n",
       "modindx     float64\n",
       "label       float64\n",
       "dtype: object"
      ]
     },
     "execution_count": 10,
     "metadata": {},
     "output_type": "execute_result"
    }
   ],
   "source": [
    "df['label'].replace('male','1',inplace = True)\n",
    "df['label'].replace('female','0',inplace = True)\n",
    "df.astype({'label': 'float'}).dtypes"
   ]
  },
  {
   "cell_type": "code",
   "execution_count": 11,
   "id": "ff588d52",
   "metadata": {},
   "outputs": [
    {
     "data": {
      "image/png": "[encoded data removed]",
      "text/plain": [
       "<Figure size 432x288 with 1 Axes>"
      ]
     },
     "metadata": {},
     "output_type": "display_data"
    }
   ],
   "source": [
    "_, _, autotexts = plt.pie(df['label'].value_counts(),colors = ['blue','green'],labels = ['male','female'],autopct= '%1.1f%%')\n",
    "for autotext in autotexts:\n",
    "    autotext.set_color('white')"
   ]
  },
  {
   "cell_type": "markdown",
   "id": "0cad9242",
   "metadata": {},
   "source": [
    "Data is balanced, as both classes are of the same count.\n",
    "\n",
    "Now, the label will be changed back to its original data type."
   ]
  },
  {
   "cell_type": "code",
   "execution_count": 12,
   "id": "3d7f0355",
   "metadata": {},
   "outputs": [
    {
     "data": {
      "text/html": [
       "<div>\n",
       "<style scoped>\n",
       "    .dataframe tbody tr th:only-of-type {\n",
       "        vertical-align: middle;\n",
       "    }\n",
       "\n",
       "    .dataframe tbody tr th {\n",
       "        vertical-align: top;\n",
       "    }\n",
       "\n",
       "    .dataframe thead th {\n",
       "        text-align: right;\n",
       "    }\n",
       "</style>\n",
       "<table border=\"1\" class=\"dataframe\">\n",
       "  <thead>\n",
       "    <tr style=\"text-align: right;\">\n",
       "      <th></th>\n",
       "      <th>meanfreq</th>\n",
       "      <th>sd</th>\n",
       "      <th>median</th>\n",
       "      <th>Q25</th>\n",
       "      <th>Q75</th>\n",
       "      <th>IQR</th>\n",
       "      <th>skew</th>\n",
       "      <th>kurt</th>\n",
       "      <th>sp.ent</th>\n",
       "      <th>sfm</th>\n",
       "      <th>...</th>\n",
       "      <th>centroid</th>\n",
       "      <th>meanfun</th>\n",
       "      <th>minfun</th>\n",
       "      <th>maxfun</th>\n",
       "      <th>meandom</th>\n",
       "      <th>mindom</th>\n",
       "      <th>maxdom</th>\n",
       "      <th>dfrange</th>\n",
       "      <th>modindx</th>\n",
       "      <th>label</th>\n",
       "    </tr>\n",
       "  </thead>\n",
       "  <tbody>\n",
       "    <tr>\n",
       "      <th>0</th>\n",
       "      <td>0.059781</td>\n",
       "      <td>0.064241</td>\n",
       "      <td>0.032027</td>\n",
       "      <td>0.015071</td>\n",
       "      <td>0.090193</td>\n",
       "      <td>0.075122</td>\n",
       "      <td>12.863462</td>\n",
       "      <td>274.402905</td>\n",
       "      <td>0.893369</td>\n",
       "      <td>0.491918</td>\n",
       "      <td>...</td>\n",
       "      <td>0.059781</td>\n",
       "      <td>0.084279</td>\n",
       "      <td>0.015702</td>\n",
       "      <td>0.275862</td>\n",
       "      <td>0.007812</td>\n",
       "      <td>0.007812</td>\n",
       "      <td>0.007812</td>\n",
       "      <td>0.000000</td>\n",
       "      <td>0.000000</td>\n",
       "      <td>male</td>\n",
       "    </tr>\n",
       "    <tr>\n",
       "      <th>1</th>\n",
       "      <td>0.066009</td>\n",
       "      <td>0.067310</td>\n",
       "      <td>0.040229</td>\n",
       "      <td>0.019414</td>\n",
       "      <td>0.092666</td>\n",
       "      <td>0.073252</td>\n",
       "      <td>22.423285</td>\n",
       "      <td>634.613855</td>\n",
       "      <td>0.892193</td>\n",
       "      <td>0.513724</td>\n",
       "      <td>...</td>\n",
       "      <td>0.066009</td>\n",
       "      <td>0.107937</td>\n",
       "      <td>0.015826</td>\n",
       "      <td>0.250000</td>\n",
       "      <td>0.009014</td>\n",
       "      <td>0.007812</td>\n",
       "      <td>0.054688</td>\n",
       "      <td>0.046875</td>\n",
       "      <td>0.052632</td>\n",
       "      <td>male</td>\n",
       "    </tr>\n",
       "    <tr>\n",
       "      <th>2</th>\n",
       "      <td>0.077316</td>\n",
       "      <td>0.083829</td>\n",
       "      <td>0.036718</td>\n",
       "      <td>0.008701</td>\n",
       "      <td>0.131908</td>\n",
       "      <td>0.123207</td>\n",
       "      <td>30.757155</td>\n",
       "      <td>1024.927705</td>\n",
       "      <td>0.846389</td>\n",
       "      <td>0.478905</td>\n",
       "      <td>...</td>\n",
       "      <td>0.077316</td>\n",
       "      <td>0.098706</td>\n",
       "      <td>0.015656</td>\n",
       "      <td>0.271186</td>\n",
       "      <td>0.007990</td>\n",
       "      <td>0.007812</td>\n",
       "      <td>0.015625</td>\n",
       "      <td>0.007812</td>\n",
       "      <td>0.046512</td>\n",
       "      <td>male</td>\n",
       "    </tr>\n",
       "    <tr>\n",
       "      <th>3</th>\n",
       "      <td>0.151228</td>\n",
       "      <td>0.072111</td>\n",
       "      <td>0.158011</td>\n",
       "      <td>0.096582</td>\n",
       "      <td>0.207955</td>\n",
       "      <td>0.111374</td>\n",
       "      <td>1.232831</td>\n",
       "      <td>4.177296</td>\n",
       "      <td>0.963322</td>\n",
       "      <td>0.727232</td>\n",
       "      <td>...</td>\n",
       "      <td>0.151228</td>\n",
       "      <td>0.088965</td>\n",
       "      <td>0.017798</td>\n",
       "      <td>0.250000</td>\n",
       "      <td>0.201497</td>\n",
       "      <td>0.007812</td>\n",
       "      <td>0.562500</td>\n",
       "      <td>0.554688</td>\n",
       "      <td>0.247119</td>\n",
       "      <td>male</td>\n",
       "    </tr>\n",
       "    <tr>\n",
       "      <th>4</th>\n",
       "      <td>0.135120</td>\n",
       "      <td>0.079146</td>\n",
       "      <td>0.124656</td>\n",
       "      <td>0.078720</td>\n",
       "      <td>0.206045</td>\n",
       "      <td>0.127325</td>\n",
       "      <td>1.101174</td>\n",
       "      <td>4.333713</td>\n",
       "      <td>0.971955</td>\n",
       "      <td>0.783568</td>\n",
       "      <td>...</td>\n",
       "      <td>0.135120</td>\n",
       "      <td>0.106398</td>\n",
       "      <td>0.016931</td>\n",
       "      <td>0.266667</td>\n",
       "      <td>0.712812</td>\n",
       "      <td>0.007812</td>\n",
       "      <td>5.484375</td>\n",
       "      <td>5.476562</td>\n",
       "      <td>0.208274</td>\n",
       "      <td>male</td>\n",
       "    </tr>\n",
       "    <tr>\n",
       "      <th>...</th>\n",
       "      <td>...</td>\n",
       "      <td>...</td>\n",
       "      <td>...</td>\n",
       "      <td>...</td>\n",
       "      <td>...</td>\n",
       "      <td>...</td>\n",
       "      <td>...</td>\n",
       "      <td>...</td>\n",
       "      <td>...</td>\n",
       "      <td>...</td>\n",
       "      <td>...</td>\n",
       "      <td>...</td>\n",
       "      <td>...</td>\n",
       "      <td>...</td>\n",
       "      <td>...</td>\n",
       "      <td>...</td>\n",
       "      <td>...</td>\n",
       "      <td>...</td>\n",
       "      <td>...</td>\n",
       "      <td>...</td>\n",
       "      <td>...</td>\n",
       "    </tr>\n",
       "    <tr>\n",
       "      <th>3163</th>\n",
       "      <td>0.131884</td>\n",
       "      <td>0.084734</td>\n",
       "      <td>0.153707</td>\n",
       "      <td>0.049285</td>\n",
       "      <td>0.201144</td>\n",
       "      <td>0.151859</td>\n",
       "      <td>1.762129</td>\n",
       "      <td>6.630383</td>\n",
       "      <td>0.962934</td>\n",
       "      <td>0.763182</td>\n",
       "      <td>...</td>\n",
       "      <td>0.131884</td>\n",
       "      <td>0.182790</td>\n",
       "      <td>0.083770</td>\n",
       "      <td>0.262295</td>\n",
       "      <td>0.832899</td>\n",
       "      <td>0.007812</td>\n",
       "      <td>4.210938</td>\n",
       "      <td>4.203125</td>\n",
       "      <td>0.161929</td>\n",
       "      <td>female</td>\n",
       "    </tr>\n",
       "    <tr>\n",
       "      <th>3164</th>\n",
       "      <td>0.116221</td>\n",
       "      <td>0.089221</td>\n",
       "      <td>0.076758</td>\n",
       "      <td>0.042718</td>\n",
       "      <td>0.204911</td>\n",
       "      <td>0.162193</td>\n",
       "      <td>0.693730</td>\n",
       "      <td>2.503954</td>\n",
       "      <td>0.960716</td>\n",
       "      <td>0.709570</td>\n",
       "      <td>...</td>\n",
       "      <td>0.116221</td>\n",
       "      <td>0.188980</td>\n",
       "      <td>0.034409</td>\n",
       "      <td>0.275862</td>\n",
       "      <td>0.909856</td>\n",
       "      <td>0.039062</td>\n",
       "      <td>3.679688</td>\n",
       "      <td>3.640625</td>\n",
       "      <td>0.277897</td>\n",
       "      <td>female</td>\n",
       "    </tr>\n",
       "    <tr>\n",
       "      <th>3165</th>\n",
       "      <td>0.142056</td>\n",
       "      <td>0.095798</td>\n",
       "      <td>0.183731</td>\n",
       "      <td>0.033424</td>\n",
       "      <td>0.224360</td>\n",
       "      <td>0.190936</td>\n",
       "      <td>1.876502</td>\n",
       "      <td>6.604509</td>\n",
       "      <td>0.946854</td>\n",
       "      <td>0.654196</td>\n",
       "      <td>...</td>\n",
       "      <td>0.142056</td>\n",
       "      <td>0.209918</td>\n",
       "      <td>0.039506</td>\n",
       "      <td>0.275862</td>\n",
       "      <td>0.494271</td>\n",
       "      <td>0.007812</td>\n",
       "      <td>2.937500</td>\n",
       "      <td>2.929688</td>\n",
       "      <td>0.194759</td>\n",
       "      <td>female</td>\n",
       "    </tr>\n",
       "    <tr>\n",
       "      <th>3166</th>\n",
       "      <td>0.143659</td>\n",
       "      <td>0.090628</td>\n",
       "      <td>0.184976</td>\n",
       "      <td>0.043508</td>\n",
       "      <td>0.219943</td>\n",
       "      <td>0.176435</td>\n",
       "      <td>1.591065</td>\n",
       "      <td>5.388298</td>\n",
       "      <td>0.950436</td>\n",
       "      <td>0.675470</td>\n",
       "      <td>...</td>\n",
       "      <td>0.143659</td>\n",
       "      <td>0.172375</td>\n",
       "      <td>0.034483</td>\n",
       "      <td>0.250000</td>\n",
       "      <td>0.791360</td>\n",
       "      <td>0.007812</td>\n",
       "      <td>3.593750</td>\n",
       "      <td>3.585938</td>\n",
       "      <td>0.311002</td>\n",
       "      <td>female</td>\n",
       "    </tr>\n",
       "    <tr>\n",
       "      <th>3167</th>\n",
       "      <td>0.165509</td>\n",
       "      <td>0.092884</td>\n",
       "      <td>0.183044</td>\n",
       "      <td>0.070072</td>\n",
       "      <td>0.250827</td>\n",
       "      <td>0.180756</td>\n",
       "      <td>1.705029</td>\n",
       "      <td>5.769115</td>\n",
       "      <td>0.938829</td>\n",
       "      <td>0.601529</td>\n",
       "      <td>...</td>\n",
       "      <td>0.165509</td>\n",
       "      <td>0.185607</td>\n",
       "      <td>0.062257</td>\n",
       "      <td>0.271186</td>\n",
       "      <td>0.227022</td>\n",
       "      <td>0.007812</td>\n",
       "      <td>0.554688</td>\n",
       "      <td>0.546875</td>\n",
       "      <td>0.350000</td>\n",
       "      <td>female</td>\n",
       "    </tr>\n",
       "  </tbody>\n",
       "</table>\n",
       "<p>3166 rows × 21 columns</p>\n",
       "</div>"
      ],
      "text/plain": [
       "      meanfreq        sd    median       Q25       Q75       IQR       skew  \\\n",
       "0     0.059781  0.064241  0.032027  0.015071  0.090193  0.075122  12.863462   \n",
       "1     0.066009  0.067310  0.040229  0.019414  0.092666  0.073252  22.423285   \n",
       "2     0.077316  0.083829  0.036718  0.008701  0.131908  0.123207  30.757155   \n",
       "3     0.151228  0.072111  0.158011  0.096582  0.207955  0.111374   1.232831   \n",
       "4     0.135120  0.079146  0.124656  0.078720  0.206045  0.127325   1.101174   \n",
       "...        ...       ...       ...       ...       ...       ...        ...   \n",
       "3163  0.131884  0.084734  0.153707  0.049285  0.201144  0.151859   1.762129   \n",
       "3164  0.116221  0.089221  0.076758  0.042718  0.204911  0.162193   0.693730   \n",
       "3165  0.142056  0.095798  0.183731  0.033424  0.224360  0.190936   1.876502   \n",
       "3166  0.143659  0.090628  0.184976  0.043508  0.219943  0.176435   1.591065   \n",
       "3167  0.165509  0.092884  0.183044  0.070072  0.250827  0.180756   1.705029   \n",
       "\n",
       "             kurt    sp.ent       sfm  ...  centroid   meanfun    minfun  \\\n",
       "0      274.402905  0.893369  0.491918  ...  0.059781  0.084279  0.015702   \n",
       "1      634.613855  0.892193  0.513724  ...  0.066009  0.107937  0.015826   \n",
       "2     1024.927705  0.846389  0.478905  ...  0.077316  0.098706  0.015656   \n",
       "3        4.177296  0.963322  0.727232  ...  0.151228  0.088965  0.017798   \n",
       "4        4.333713  0.971955  0.783568  ...  0.135120  0.106398  0.016931   \n",
       "...           ...       ...       ...  ...       ...       ...       ...   \n",
       "3163     6.630383  0.962934  0.763182  ...  0.131884  0.182790  0.083770   \n",
       "3164     2.503954  0.960716  0.709570  ...  0.116221  0.188980  0.034409   \n",
       "3165     6.604509  0.946854  0.654196  ...  0.142056  0.209918  0.039506   \n",
       "3166     5.388298  0.950436  0.675470  ...  0.143659  0.172375  0.034483   \n",
       "3167     5.769115  0.938829  0.601529  ...  0.165509  0.185607  0.062257   \n",
       "\n",
       "        maxfun   meandom    mindom    maxdom   dfrange   modindx   label  \n",
       "0     0.275862  0.007812  0.007812  0.007812  0.000000  0.000000    male  \n",
       "1     0.250000  0.009014  0.007812  0.054688  0.046875  0.052632    male  \n",
       "2     0.271186  0.007990  0.007812  0.015625  0.007812  0.046512    male  \n",
       "3     0.250000  0.201497  0.007812  0.562500  0.554688  0.247119    male  \n",
       "4     0.266667  0.712812  0.007812  5.484375  5.476562  0.208274    male  \n",
       "...        ...       ...       ...       ...       ...       ...     ...  \n",
       "3163  0.262295  0.832899  0.007812  4.210938  4.203125  0.161929  female  \n",
       "3164  0.275862  0.909856  0.039062  3.679688  3.640625  0.277897  female  \n",
       "3165  0.275862  0.494271  0.007812  2.937500  2.929688  0.194759  female  \n",
       "3166  0.250000  0.791360  0.007812  3.593750  3.585938  0.311002  female  \n",
       "3167  0.271186  0.227022  0.007812  0.554688  0.546875  0.350000  female  \n",
       "\n",
       "[3166 rows x 21 columns]"
      ]
     },
     "execution_count": 12,
     "metadata": {},
     "output_type": "execute_result"
    }
   ],
   "source": [
    "df['label'].replace('1','male',inplace = True)\n",
    "df['label'].replace('0','female',inplace = True)\n",
    "df.astype({'label': 'object'})"
   ]
  },
  {
   "cell_type": "markdown",
   "id": "4bb0388a",
   "metadata": {},
   "source": [
    "#### 2. Outlier Detection"
   ]
  },
  {
   "cell_type": "code",
   "execution_count": 13,
   "id": "98e3c750",
   "metadata": {
    "scrolled": true
   },
   "outputs": [
    {
     "data": {
      "text/plain": [
       "<AxesSubplot:title={'center':'meanfreq'}, xlabel='label'>"
      ]
     },
     "execution_count": 13,
     "metadata": {},
     "output_type": "execute_result"
    },
    {
     "data": {
      "image/png": "[encoded data removed]",
      "text/plain": [
       "<Figure size 432x288 with 1 Axes>"
      ]
     },
     "metadata": {
      "needs_background": "light"
     },
     "output_type": "display_data"
    }
   ],
   "source": [
    "df.boxplot(column = 'meanfreq', by = 'label')"
   ]
  },
  {
   "cell_type": "markdown",
   "id": "187d57a7",
   "metadata": {},
   "source": [
    "These outliers should not be removed, as the different frequencies of human beings' speech should be expected. Also, the analyzed frequency range of the data source was between 0-280hz, so these figures are not out of place."
   ]
  },
  {
   "cell_type": "code",
   "execution_count": 14,
   "id": "1799a434",
   "metadata": {},
   "outputs": [
    {
     "data": {
      "text/plain": [
       "<AxesSubplot:title={'center':'meanfun'}, xlabel='label'>"
      ]
     },
     "execution_count": 14,
     "metadata": {},
     "output_type": "execute_result"
    },
    {
     "data": {
      "image/png": "[encoded data removed]",
      "text/plain": [
       "<Figure size 432x288 with 1 Axes>"
      ]
     },
     "metadata": {
      "needs_background": "light"
     },
     "output_type": "display_data"
    }
   ],
   "source": [
    "df.boxplot(column = 'meanfun', by = 'label')"
   ]
  },
  {
   "cell_type": "markdown",
   "id": "38176a6c",
   "metadata": {},
   "source": [
    "Some of these outliers may be removed, as they do not fall in the expected range of fundamental frequency for males and females.\n",
    "\n",
    "The voiced speech of a typical adult male will have a fundamental frequency\n",
    "from 85 to 155 Hz, and that of a typical adult female from 165 to 255 Hz.\n",
    "\n",
    "Source: https://en.wikipedia.org/wiki/Voice_frequency#Fundamental_frequency\n",
    "\n",
    "However, they will not be dropped for this notebook as certain fundamental frequencies can be lower or higher depending on the age of the speaker.\n",
    "\n",
    "source: https://www.tandfonline.com/doi/abs/10.3109/00016486909129236?journalCode=ioto20"
   ]
  },
  {
   "cell_type": "markdown",
   "id": "a9f36d93",
   "metadata": {},
   "source": [
    "#### 3. distribution of mean frequencies versus mean fundamental frequencies"
   ]
  },
  {
   "cell_type": "code",
   "execution_count": 15,
   "id": "d4dcde32",
   "metadata": {},
   "outputs": [
    {
     "name": "stderr",
     "output_type": "stream",
     "text": [
      "D:\\Anaconda\\lib\\site-packages\\seaborn\\axisgrid.py:337: UserWarning: The `size` parameter has been renamed to `height`; please update your code.\n",
      "  warnings.warn(msg, UserWarning)\n"
     ]
    },
    {
     "data": {
      "text/plain": [
       "<seaborn.axisgrid.FacetGrid at 0x2029328ed30>"
      ]
     },
     "execution_count": 15,
     "metadata": {},
     "output_type": "execute_result"
    },
    {
     "data": {
      "image/png": "[encoded data removed]",
      "text/plain": [
       "<Figure size 430.5x360 with 1 Axes>"
      ]
     },
     "metadata": {
      "needs_background": "light"
     },
     "output_type": "display_data"
    }
   ],
   "source": [
    "sns.FacetGrid(df, hue=\"label\", size=5).map(plt.scatter, \"meanfun\", \"meanfreq\").add_legend()"
   ]
  },
  {
   "cell_type": "markdown",
   "id": "8defc563",
   "metadata": {},
   "source": [
    "The data is not linearly seperable, and it has many variations based on the mean fundamental frequency and the mean frequency.\n",
    "\n",
    "With how these variations are looking, KNN will not enjoy working with this dataset..."
   ]
  },
  {
   "cell_type": "code",
   "execution_count": 16,
   "id": "ed4e6db1",
   "metadata": {},
   "outputs": [
    {
     "data": {
      "text/plain": [
       "<AxesSubplot:xlabel='label', ylabel='meanfreq'>"
      ]
     },
     "execution_count": 16,
     "metadata": {},
     "output_type": "execute_result"
    },
    {
     "data": {
      "image/png": "[encoded data removed]",
      "text/plain": [
       "<Figure size 432x288 with 1 Axes>"
      ]
     },
     "metadata": {
      "needs_background": "light"
     },
     "output_type": "display_data"
    }
   ],
   "source": [
    "sns.barplot(x = df['label'],y = df['meanfreq'])"
   ]
  },
  {
   "cell_type": "markdown",
   "id": "b3e565ba",
   "metadata": {},
   "source": [
    "As expected, females have a higher mean frequency than males, as women speak with a higher pitch, while men speak with a lower pitch."
   ]
  },
  {
   "cell_type": "markdown",
   "id": "be198c7b",
   "metadata": {},
   "source": [
    "### Model Training (No Feature Selection)"
   ]
  },
  {
   "cell_type": "markdown",
   "id": "ac9c3332",
   "metadata": {},
   "source": [
    "Time to start training models!\n",
    "\n",
    "Three different models will be trained using three different algorithms:\n",
    "\n",
    "1. Decision Tree\n",
    "\n",
    "* Good for data with little variations. But, it is more likely to overfit on high number of features, as it will keep creating more complex leaf nodes to try to learn the different variations of the data.\n",
    "\n",
    "2. K-Nearest Neighbour\n",
    "\n",
    "* Good for data that is very closely related, as it classifies data based on distance (has no training period). However, it is very sensitive to data with irrelevant features, and it does not pay attention to the relationship between different features. Also, it relies heavily on the value of K being optimized.\n",
    "\n",
    "3. Logistic Regression\n",
    "\n",
    "* Good for datasets that are very large and varied. However, it is more likely to overfit on a dataset with a smaller sample size or features, as it makes an assumption that the independent, and dependent variables are linearly seperable, which may not always be the case. "
   ]
  },
  {
   "cell_type": "code",
   "execution_count": 17,
   "id": "bc9607a6",
   "metadata": {},
   "outputs": [],
   "source": [
    "#splitting features from label\n",
    "x = df.iloc[:,0:-1]\n",
    "y = df[\"label\"]\n",
    "x_train_no_fs, x_test_no_fs, y_train_no_fs, y_test_no_fs = train_test_split(x, y, test_size = 0.3, random_state=42)"
   ]
  },
  {
   "cell_type": "markdown",
   "id": "5b39f645",
   "metadata": {},
   "source": [
    "### 1. Decision Tree"
   ]
  },
  {
   "cell_type": "code",
   "execution_count": 18,
   "id": "57500160",
   "metadata": {},
   "outputs": [
    {
     "name": "stdout",
     "output_type": "stream",
     "text": [
      "Accuracy on training set: 0.983\n",
      "Accuracy on test set: 0.972\n"
     ]
    }
   ],
   "source": [
    "dtree_no_fs = DecisionTreeClassifier(max_depth = 4,random_state= 42)\n",
    "dtree_no_fs.fit(x_train_no_fs, y_train_no_fs)\n",
    "print(\"Accuracy on training set: {:.3f}\".format(dtree_no_fs.score(x_train_no_fs, y_train_no_fs)))\n",
    "print(\"Accuracy on test set: {:.3f}\".format(dtree_no_fs.score(x_test_no_fs, y_test_no_fs)))"
   ]
  },
  {
   "cell_type": "markdown",
   "id": "1ab4bc9c",
   "metadata": {},
   "source": [
    "### 1.1 Decision Tree Learning Curve"
   ]
  },
  {
   "cell_type": "code",
   "execution_count": 19,
   "id": "7ebd984c",
   "metadata": {},
   "outputs": [
    {
     "data": {
      "image/png": "[encoded data removed]",
      "text/plain": [
       "<Figure size 432x288 with 1 Axes>"
      ]
     },
     "metadata": {
      "needs_background": "light"
     },
     "output_type": "display_data"
    }
   ],
   "source": [
    "train_sizes, train_scores, test_scores = learning_curve(\n",
    "    estimator=dtree_no_fs,\n",
    "    X=x,\n",
    "    y=y,\n",
    "    cv=5,\n",
    "    scoring=\"accuracy\",\n",
    "    train_sizes = [0.2,0.4,0.6,0.8,1]\n",
    ")\n",
    "train_mean = np.mean(train_scores, axis=1)\n",
    "train_std = np.std(train_scores, axis=1)\n",
    "\n",
    "test_mean = np.mean(test_scores, axis=1)\n",
    "test_std = np.std(test_scores, axis=1)\n",
    "\n",
    "fig=plt.figure()\n",
    "ax=fig.add_axes([0,0,1,1])\n",
    "ax.scatter(x=train_sizes,y= train_scores.mean(axis=1), color='b')\n",
    "ax.scatter(x=train_sizes,y=test_scores.mean(axis=1), color='r')\n",
    "ax.plot(train_sizes,train_scores.mean(axis=1), color='b')\n",
    "ax.plot(train_sizes,test_scores.mean(axis=1), color='r')\n",
    "ax.set_xlabel('Data Range')\n",
    "ax.set_ylabel('Accuracy')\n",
    "ax.set_title('Learning Curve')\n",
    "plt.show()"
   ]
  },
  {
   "cell_type": "markdown",
   "id": "ba3cd7d5",
   "metadata": {},
   "source": [
    "### 2. KNN"
   ]
  },
  {
   "cell_type": "markdown",
   "id": "781a381a",
   "metadata": {},
   "source": [
    "Let's find the best value of K."
   ]
  },
  {
   "cell_type": "code",
   "execution_count": 20,
   "id": "4c022327",
   "metadata": {},
   "outputs": [
    {
     "data": {
      "text/plain": [
       "Text(0, 0.5, 'Testing Accuracy')"
      ]
     },
     "execution_count": 20,
     "metadata": {},
     "output_type": "execute_result"
    },
    {
     "data": {
      "image/png": "[encoded data removed]",
      "text/plain": [
       "<Figure size 432x288 with 1 Axes>"
      ]
     },
     "metadata": {
      "needs_background": "light"
     },
     "output_type": "display_data"
    }
   ],
   "source": [
    "#trying different ranges for k range\n",
    "k_range = range(1, 15)\n",
    "scores = []\n",
    "for k in k_range:\n",
    "    knn_test = KNeighborsClassifier(n_neighbors=k,metric='euclidean')\n",
    "    knn_test.fit(x_train_no_fs, y_train_no_fs)\n",
    "    y_pred_test = knn_test.predict(x_test_no_fs)\n",
    "    scores.append(metrics.accuracy_score(y_test_no_fs, y_pred_test))\n",
    "    \n",
    "plt.plot(k_range, scores)\n",
    "plt.xlabel('Value of K for KNN')\n",
    "plt.ylabel('Testing Accuracy')"
   ]
  },
  {
   "cell_type": "markdown",
   "id": "fea5f872",
   "metadata": {},
   "source": [
    "The best value of K is 5."
   ]
  },
  {
   "cell_type": "code",
   "execution_count": 21,
   "id": "2c5aea29",
   "metadata": {},
   "outputs": [
    {
     "name": "stdout",
     "output_type": "stream",
     "text": [
      "Accuracy on test set: 0.695\n"
     ]
    }
   ],
   "source": [
    "knn_no_fs = KNeighborsClassifier(n_neighbors=5, metric='euclidean')\n",
    "knn_no_fs.fit(x_train_no_fs, y_train_no_fs)\n",
    "print(\"Accuracy on test set: {:.3f}\".format(knn_no_fs.score(x_test_no_fs, y_test_no_fs)))"
   ]
  },
  {
   "cell_type": "markdown",
   "id": "4712504d",
   "metadata": {},
   "source": [
    "### 2.1 KNN Learning Curve"
   ]
  },
  {
   "cell_type": "code",
   "execution_count": 22,
   "id": "19e6da64",
   "metadata": {},
   "outputs": [
    {
     "data": {
      "image/png": "[encoded data removed]",
      "text/plain": [
       "<Figure size 432x288 with 1 Axes>"
      ]
     },
     "metadata": {
      "needs_background": "light"
     },
     "output_type": "display_data"
    }
   ],
   "source": [
    "train_sizes, train_scores, test_scores = learning_curve(\n",
    "    estimator=knn_no_fs,\n",
    "    X=x,\n",
    "    y=y,\n",
    "    cv=5,\n",
    "    scoring=\"accuracy\",\n",
    "    train_sizes = [0.2,0.4,0.6,0.8,1],\n",
    "    n_jobs = -1\n",
    ")\n",
    "train_mean = np.mean(train_scores, axis=1)\n",
    "train_std = np.std(train_scores, axis=1)\n",
    "\n",
    "test_mean = np.mean(test_scores, axis=1)\n",
    "test_std = np.std(test_scores, axis=1)\n",
    "\n",
    "fig=plt.figure()\n",
    "ax=fig.add_axes([0,0,1,1])\n",
    "ax.scatter(x=train_sizes,y= train_scores.mean(axis=1), color='b')\n",
    "ax.scatter(x=train_sizes,y=test_scores.mean(axis=1), color='r')\n",
    "ax.plot(train_sizes,train_scores.mean(axis=1), color='b')\n",
    "ax.plot(train_sizes,test_scores.mean(axis=1), color='r')\n",
    "ax.set_xlabel('Data Range')\n",
    "ax.set_ylabel('Accuracy')\n",
    "ax.set_title('Learning Curve')\n",
    "plt.show()"
   ]
  },
  {
   "cell_type": "markdown",
   "id": "2b9b055c",
   "metadata": {},
   "source": [
    "### 3. Logistic Regression"
   ]
  },
  {
   "cell_type": "code",
   "execution_count": 23,
   "id": "4e390b99",
   "metadata": {},
   "outputs": [
    {
     "data": {
      "text/plain": [
       "0.9547368421052631"
      ]
     },
     "execution_count": 23,
     "metadata": {},
     "output_type": "execute_result"
    }
   ],
   "source": [
    "lrmodel_no_fs = LogisticRegression(C = 5,solver='lbfgs', max_iter=1000)\n",
    "lrmodel_no_fs = lrmodel_no_fs.fit(x_train_no_fs, y_train_no_fs)\n",
    "\n",
    "lrmodel_no_fs.score(x_test_no_fs, y_test_no_fs)"
   ]
  },
  {
   "cell_type": "markdown",
   "id": "ddebcb1d",
   "metadata": {},
   "source": [
    "### 3.1 Logistic Regression Learning Curve"
   ]
  },
  {
   "cell_type": "code",
   "execution_count": 24,
   "id": "972729a6",
   "metadata": {},
   "outputs": [
    {
     "data": {
      "image/png": "[encoded data removed]",
      "text/plain": [
       "<Figure size 432x288 with 1 Axes>"
      ]
     },
     "metadata": {
      "needs_background": "light"
     },
     "output_type": "display_data"
    }
   ],
   "source": [
    "train_sizes, train_scores, test_scores = learning_curve(\n",
    "    estimator=lrmodel_no_fs,\n",
    "    X=x,\n",
    "    y=y,\n",
    "    cv=5,\n",
    "    scoring=\"accuracy\",\n",
    "    n_jobs=-1,\n",
    "    train_sizes = [0.2,0.4,0.6,0.8,1],\n",
    ")\n",
    "train_mean = np.mean(train_scores, axis=1)\n",
    "train_std = np.std(train_scores, axis=1)\n",
    "\n",
    "test_mean = np.mean(test_scores, axis=1)\n",
    "test_std = np.std(test_scores, axis=1)\n",
    "\n",
    "fig=plt.figure()\n",
    "ax=fig.add_axes([0,0,1,1])\n",
    "ax.scatter(x=train_sizes,y= train_scores.mean(axis=1), color='b')\n",
    "ax.scatter(x=train_sizes,y=test_scores.mean(axis=1), color='r')\n",
    "ax.plot(train_sizes,train_scores.mean(axis=1), color='b')\n",
    "ax.plot(train_sizes,test_scores.mean(axis=1), color='r')\n",
    "ax.set_xlabel('Data Range')\n",
    "ax.set_ylabel('Accuracy')\n",
    "ax.set_title('Learning Curve')\n",
    "plt.show()"
   ]
  },
  {
   "cell_type": "markdown",
   "id": "3548e1b5",
   "metadata": {},
   "source": [
    "### Model Testing (No Feature Selection)"
   ]
  },
  {
   "cell_type": "markdown",
   "id": "201acc7b",
   "metadata": {},
   "source": [
    "Time to start testing models!\n",
    "\n",
    "The three models will be assessed based on three evaluation methods:\n",
    "\n",
    "1. Accuracy\n",
    "\n",
    "* Percentage of correctly classified labels divided by total number of labels\n",
    "\n",
    "2. Confusion Matrix\n",
    "\n",
    "* A complete breakdown of which labesl were classified correctly, or incorrectly by showing which errors were type 1 or type 2 errors. It works well with imbalanced data, and with balanced data that has many different variations amongst its features.\n",
    "\n",
    "3. Classification Report\n",
    "\n",
    "* A report with a diverse list of evaluations for the model, such as percision, F1-score, support score, and more."
   ]
  },
  {
   "cell_type": "markdown",
   "id": "f8434883",
   "metadata": {},
   "source": [
    "### 1. Decision Tree"
   ]
  },
  {
   "cell_type": "markdown",
   "id": "e4c1fdda",
   "metadata": {},
   "source": [
    "#### 1.1 Decision Tree Accuracy"
   ]
  },
  {
   "cell_type": "code",
   "execution_count": 25,
   "id": "63d51f1d",
   "metadata": {},
   "outputs": [
    {
     "name": "stdout",
     "output_type": "stream",
     "text": [
      "Accuracy on test set: 0.972\n"
     ]
    }
   ],
   "source": [
    "print(\"Accuracy on test set: {:.3f}\".format(dtree_no_fs.score(x_test_no_fs, y_test_no_fs)))"
   ]
  },
  {
   "cell_type": "markdown",
   "id": "e90dcddb",
   "metadata": {},
   "source": [
    "#### 1.2 Decision Tree Confusion Matrix"
   ]
  },
  {
   "cell_type": "code",
   "execution_count": 26,
   "id": "cdc538dd",
   "metadata": {},
   "outputs": [
    {
     "data": {
      "image/png": "[encoded data removed]",
      "text/plain": [
       "<Figure size 432x288 with 2 Axes>"
      ]
     },
     "metadata": {
      "needs_background": "light"
     },
     "output_type": "display_data"
    }
   ],
   "source": [
    "plot_confusion_matrix(dtree_no_fs, x_test_no_fs, y_test_no_fs)  \n",
    "plt.title('Confussion Matrix')\n",
    "plt.show()"
   ]
  },
  {
   "cell_type": "markdown",
   "id": "7f661f22",
   "metadata": {},
   "source": [
    "#### 1.3 Decision Tree Classification Report"
   ]
  },
  {
   "cell_type": "code",
   "execution_count": 27,
   "id": "14feea39",
   "metadata": {},
   "outputs": [
    {
     "name": "stdout",
     "output_type": "stream",
     "text": [
      "              precision    recall  f1-score   support\n",
      "\n",
      "      female       0.96      0.98      0.97       457\n",
      "        male       0.98      0.96      0.97       493\n",
      "\n",
      "    accuracy                           0.97       950\n",
      "   macro avg       0.97      0.97      0.97       950\n",
      "weighted avg       0.97      0.97      0.97       950\n",
      "\n"
     ]
    }
   ],
   "source": [
    "y_pred_dt_no_fs = dtree_no_fs.predict(x_test_no_fs)\n",
    "cf_rep = classification_report(y_test_no_fs, y_pred_dt_no_fs,\n",
    "                            target_names=[\"female\", \"male\"])\n",
    "\n",
    "print(cf_rep)"
   ]
  },
  {
   "cell_type": "markdown",
   "id": "45f05f6b",
   "metadata": {},
   "source": [
    "### 2. KNN"
   ]
  },
  {
   "cell_type": "markdown",
   "id": "4f924600",
   "metadata": {},
   "source": [
    "2.1 KNN Accuracy"
   ]
  },
  {
   "cell_type": "code",
   "execution_count": 28,
   "id": "008f3c0f",
   "metadata": {},
   "outputs": [
    {
     "name": "stdout",
     "output_type": "stream",
     "text": [
      "Accuracy on test set: 0.695\n"
     ]
    }
   ],
   "source": [
    "print(\"Accuracy on test set: {:.3f}\".format(knn_no_fs.score(x_test_no_fs, y_test_no_fs)))"
   ]
  },
  {
   "cell_type": "markdown",
   "id": "45385e54",
   "metadata": {},
   "source": [
    "#### 2.2 KNN Confusion Matrix"
   ]
  },
  {
   "cell_type": "code",
   "execution_count": 29,
   "id": "16c37b97",
   "metadata": {},
   "outputs": [
    {
     "data": {
      "image/png": "[encoded data removed]",
      "text/plain": [
       "<Figure size 432x288 with 2 Axes>"
      ]
     },
     "metadata": {
      "needs_background": "light"
     },
     "output_type": "display_data"
    }
   ],
   "source": [
    "plot_confusion_matrix(knn_no_fs, x_test_no_fs, y_test_no_fs)  \n",
    "plt.title('Confussion Matrix')\n",
    "plt.show()"
   ]
  },
  {
   "cell_type": "markdown",
   "id": "85092f15",
   "metadata": {},
   "source": [
    "#### 2.3 KNN Classification Report"
   ]
  },
  {
   "cell_type": "code",
   "execution_count": 30,
   "id": "65b9c7a2",
   "metadata": {},
   "outputs": [
    {
     "name": "stdout",
     "output_type": "stream",
     "text": [
      "              precision    recall  f1-score   support\n",
      "\n",
      "      female       0.69      0.67      0.68       457\n",
      "        male       0.70      0.72      0.71       493\n",
      "\n",
      "    accuracy                           0.69       950\n",
      "   macro avg       0.69      0.69      0.69       950\n",
      "weighted avg       0.69      0.69      0.69       950\n",
      "\n"
     ]
    }
   ],
   "source": [
    "y_pred_knn_no_fs = knn_no_fs.predict(x_test_no_fs)\n",
    "cf_rep = classification_report(y_test_no_fs, y_pred_knn_no_fs,\n",
    "                            target_names=[\"female\", \"male\"])\n",
    "\n",
    "print(cf_rep)"
   ]
  },
  {
   "cell_type": "markdown",
   "id": "7cbd679c",
   "metadata": {},
   "source": [
    "### 3. Logistic Regression"
   ]
  },
  {
   "cell_type": "markdown",
   "id": "582a5b77",
   "metadata": {},
   "source": [
    "#### 3.1 Logistic Regression Accuracy"
   ]
  },
  {
   "cell_type": "code",
   "execution_count": 31,
   "id": "875dda7c",
   "metadata": {},
   "outputs": [
    {
     "name": "stdout",
     "output_type": "stream",
     "text": [
      "Accuracy on test set: 0.955\n"
     ]
    }
   ],
   "source": [
    "print(\"Accuracy on test set: {:.3f}\".format(lrmodel_no_fs.score(x_test_no_fs, y_test_no_fs)))"
   ]
  },
  {
   "cell_type": "markdown",
   "id": "3dfa426d",
   "metadata": {},
   "source": [
    "#### 3.2 Logistic Regression Confusion Matrix"
   ]
  },
  {
   "cell_type": "code",
   "execution_count": 32,
   "id": "61d2f8e4",
   "metadata": {},
   "outputs": [
    {
     "data": {
      "image/png": "[encoded data removed]",
      "text/plain": [
       "<Figure size 432x288 with 2 Axes>"
      ]
     },
     "metadata": {
      "needs_background": "light"
     },
     "output_type": "display_data"
    }
   ],
   "source": [
    "plot_confusion_matrix(lrmodel_no_fs, x_test_no_fs, y_test_no_fs)  \n",
    "plt.title('Confussion Matrix')\n",
    "plt.show()"
   ]
  },
  {
   "cell_type": "markdown",
   "id": "a0fee9a6",
   "metadata": {},
   "source": [
    "#### 3.3 Logistic Regression Classification Report"
   ]
  },
  {
   "cell_type": "code",
   "execution_count": 33,
   "id": "93e52832",
   "metadata": {},
   "outputs": [
    {
     "name": "stdout",
     "output_type": "stream",
     "text": [
      "              precision    recall  f1-score   support\n",
      "\n",
      "      female       0.98      0.92      0.95       457\n",
      "        male       0.93      0.98      0.96       493\n",
      "\n",
      "    accuracy                           0.95       950\n",
      "   macro avg       0.96      0.95      0.95       950\n",
      "weighted avg       0.96      0.95      0.95       950\n",
      "\n"
     ]
    }
   ],
   "source": [
    "y_pred_lr_no_fs = lrmodel_no_fs.predict(x_test_no_fs)\n",
    "cf_rep = classification_report(y_test_no_fs, y_pred_lr_no_fs,\n",
    "                            target_names=[\"female\", \"male\"])\n",
    "\n",
    "print(cf_rep)"
   ]
  },
  {
   "cell_type": "markdown",
   "id": "11da7256",
   "metadata": {},
   "source": [
    "### Feature Selection"
   ]
  },
  {
   "cell_type": "markdown",
   "id": "676723d6",
   "metadata": {},
   "source": [
    "In order to begin selecting the most relevant features, first it is important to decide on which feature selection method to use.\n",
    "\n",
    "There are three feature selection methods:\n",
    "\n",
    "1. Filter Methods\n",
    "\n",
    "Filter methods measure, and compare the correlation of all features, and the ones with high correlation to each other are considered \"redundant\" as they do not improve the ability of the model to train. In a sense, filter methods attempt to maximize the model's ability to separate classes and classify accordingly. Also, Filter methods work independently of machine learning algorithms.\n",
    "\n",
    "2. Wrapper Methods\n",
    "\n",
    "Wrapper methods evaluate features based on criteria related to the machine learning algorithm. Moreover, feature groups are evaluated based on their predictive accuracy with respect to the test data. To explain further, different feature groups are selected for training and testing on the model, and then their accuracy is evaluated. In the end, the feature group with the highest accuracy is the list of chosen features.\n",
    "\n",
    "3. Embedded Methods\n",
    "\n",
    "Embedded methods work similarly to the wrapper methods, from the perspective that features are selected based on the machine learning algorithm. However, they differ in the fact that the features are selected during the learning/training phase. Since the data is not required to be split into train-test splits, the method takes advantage of the wrapper method's ability to evaluate feature groups, while also being faster as it does not re-train the same features in different groups, but instead takes the features that perform well in the training phase.\n",
    "\n",
    "Some important notes regarding each method:\n",
    "\n",
    "* Filter methods pick large number of features, and therefore may be biased towards certain models.\n",
    "\n",
    "* Wrapper methods do not take into consideration the correlation between the features in the feature groups, therefore it might skip important features in favour of finding two features that have high accuracy together.\n",
    "\n",
    "* Although they are faster than wrapper methods, embedded methods will take more processing time than filter methods due to the feature groups being evaluated during training. \n",
    "\n",
    "Overall, the filter method seems to be the best method for this particular dataset, as the number of features is already low, and the correlation of features together is important to consider when all the features are related (statistical measures of frequencies)."
   ]
  },
  {
   "cell_type": "markdown",
   "id": "ae511ecd",
   "metadata": {},
   "source": [
    "An important note to mention:\n",
    "\n",
    "It is very important to only use the training set in correlation matrices. Because, if the whole dataset is used in the correlation matrix, this means that the training data is mixed with testing data. This would result in the model overfitting the data, because the training set is data it has already seen before."
   ]
  },
  {
   "cell_type": "code",
   "execution_count": 34,
   "id": "e3f0f692",
   "metadata": {},
   "outputs": [],
   "source": [
    "#train-test split\n",
    "x_train, x_test, y_train, y_test = train_test_split(x, y, test_size = 0.3, random_state=42)"
   ]
  },
  {
   "cell_type": "code",
   "execution_count": 35,
   "id": "cd9ddb8e",
   "metadata": {
    "scrolled": false
   },
   "outputs": [
    {
     "data": {
      "text/plain": [
       "<AxesSubplot:>"
      ]
     },
     "execution_count": 35,
     "metadata": {},
     "output_type": "execute_result"
    },
    {
     "data": {
      "image/png": "[encoded data removed]",
      "text/plain": [
       "<Figure size 792x792 with 2 Axes>"
      ]
     },
     "metadata": {
      "needs_background": "light"
     },
     "output_type": "display_data"
    }
   ],
   "source": [
    "corrmat = x_train.corr()\n",
    "fig, ax = plt.subplots()\n",
    "fig.set_size_inches(11,11)\n",
    "sns.heatmap(corrmat,annot=True)"
   ]
  },
  {
   "cell_type": "markdown",
   "id": "1512a1a8",
   "metadata": {},
   "source": [
    "Since it is hard to eye-ball the highly correlated features, it is better to use a function with a threshold, instead."
   ]
  },
  {
   "cell_type": "code",
   "execution_count": 36,
   "id": "908a2b57",
   "metadata": {},
   "outputs": [],
   "source": [
    "def correlation(dataset, threshold):\n",
    "    col_corr = set()\n",
    "    corr_matrix = dataset.corr()\n",
    "    for i in range(len(corr_matrix.columns)):\n",
    "        for j in range(i):\n",
    "            if abs(corr_matrix.iloc[i, j]) > threshold:\n",
    "                colname = corr_matrix.columns[i]\n",
    "                col_corr.add(colname)\n",
    "    return col_corr"
   ]
  },
  {
   "cell_type": "code",
   "execution_count": 37,
   "id": "54d6f97f",
   "metadata": {
    "scrolled": false
   },
   "outputs": [
    {
     "data": {
      "text/plain": [
       "{'IQR', 'Q25', 'centroid', 'dfrange', 'kurt', 'maxdom', 'median', 'sfm'}"
      ]
     },
     "execution_count": 37,
     "metadata": {},
     "output_type": "execute_result"
    }
   ],
   "source": [
    "correlated_features = correlation(x_train, 0.8)\n",
    "correlated_features"
   ]
  },
  {
   "cell_type": "code",
   "execution_count": 38,
   "id": "c1ec19c3",
   "metadata": {
    "scrolled": true
   },
   "outputs": [
    {
     "name": "stderr",
     "output_type": "stream",
     "text": [
      "D:\\Anaconda\\lib\\site-packages\\pandas\\core\\frame.py:4906: SettingWithCopyWarning: \n",
      "A value is trying to be set on a copy of a slice from a DataFrame\n",
      "\n",
      "See the caveats in the documentation: https://pandas.pydata.org/pandas-docs/stable/user_guide/indexing.html#returning-a-view-versus-a-copy\n",
      "  return super().drop(\n"
     ]
    }
   ],
   "source": [
    "x_train.drop(labels = correlated_features,axis = 1,inplace = True)\n",
    "x_test.drop(labels = correlated_features,axis = 1, inplace = True)"
   ]
  },
  {
   "cell_type": "markdown",
   "id": "e9cbaf93",
   "metadata": {},
   "source": [
    "### Model Training (With Feature Selection)"
   ]
  },
  {
   "cell_type": "markdown",
   "id": "e5547949",
   "metadata": {},
   "source": [
    "Now that the most important features have been selected, it is time to train the models again, and then test them"
   ]
  },
  {
   "cell_type": "markdown",
   "id": "021c5e78",
   "metadata": {},
   "source": [
    "### 1. Decision Tree"
   ]
  },
  {
   "cell_type": "code",
   "execution_count": 39,
   "id": "7c5bab0d",
   "metadata": {
    "scrolled": true
   },
   "outputs": [
    {
     "name": "stdout",
     "output_type": "stream",
     "text": [
      "Accuracy on training set: 0.975\n",
      "Accuracy on test set: 0.959\n"
     ]
    }
   ],
   "source": [
    "dtree = DecisionTreeClassifier(max_depth = 4, random_state= 42)\n",
    "dtree.fit(x_train, y_train)\n",
    "print(\"Accuracy on training set: {:.3f}\".format(dtree.score(x_train, y_train)))\n",
    "print(\"Accuracy on test set: {:.3f}\".format(dtree.score(x_test, y_test)))"
   ]
  },
  {
   "cell_type": "markdown",
   "id": "5ccc5f02",
   "metadata": {},
   "source": [
    "### 1.1 Decision Tree Learning Curve"
   ]
  },
  {
   "cell_type": "code",
   "execution_count": 40,
   "id": "99d8a629",
   "metadata": {},
   "outputs": [
    {
     "data": {
      "image/png": "[encoded data removed]",
      "text/plain": [
       "<Figure size 432x288 with 1 Axes>"
      ]
     },
     "metadata": {
      "needs_background": "light"
     },
     "output_type": "display_data"
    }
   ],
   "source": [
    "train_sizes, train_scores, test_scores = learning_curve(\n",
    "    estimator=dtree,\n",
    "    X=x,\n",
    "    y=y,\n",
    "    cv=5,\n",
    "    scoring=\"accuracy\",\n",
    "    train_sizes = [0.2,0.4,0.6,0.8,1]\n",
    ")\n",
    "train_mean = np.mean(train_scores, axis=1)\n",
    "train_std = np.std(train_scores, axis=1)\n",
    "\n",
    "test_mean = np.mean(test_scores, axis=1)\n",
    "test_std = np.std(test_scores, axis=1)\n",
    "\n",
    "fig=plt.figure()\n",
    "ax=fig.add_axes([0,0,1,1])\n",
    "ax.scatter(x=train_sizes,y= train_scores.mean(axis=1), color='b')\n",
    "ax.scatter(x=train_sizes,y=test_scores.mean(axis=1), color='r')\n",
    "ax.plot(train_sizes,train_scores.mean(axis=1), color='b')\n",
    "ax.plot(train_sizes,test_scores.mean(axis=1), color='r')\n",
    "ax.set_xlabel('Data Range')\n",
    "ax.set_ylabel('Accuracy')\n",
    "ax.set_title('Learning Curve')\n",
    "plt.show()"
   ]
  },
  {
   "cell_type": "markdown",
   "id": "f7f5c3b9",
   "metadata": {},
   "source": [
    "### 2. KNN"
   ]
  },
  {
   "cell_type": "markdown",
   "id": "b826189a",
   "metadata": {},
   "source": [
    "Just like before, I must find the most optimal version of K"
   ]
  },
  {
   "cell_type": "code",
   "execution_count": 41,
   "id": "098c7407",
   "metadata": {},
   "outputs": [
    {
     "data": {
      "text/plain": [
       "Text(0, 0.5, 'Testing Accuracy')"
      ]
     },
     "execution_count": 41,
     "metadata": {},
     "output_type": "execute_result"
    },
    {
     "data": {
      "image/png": "[encoded data removed]",
      "text/plain": [
       "<Figure size 432x288 with 1 Axes>"
      ]
     },
     "metadata": {
      "needs_background": "light"
     },
     "output_type": "display_data"
    }
   ],
   "source": [
    "#trying different ranges for k range\n",
    "\n",
    "k_range = range(1, 15)\n",
    "scores = []\n",
    "for k in k_range:\n",
    "    knn = KNeighborsClassifier(n_neighbors=k,metric='euclidean')\n",
    "    knn.fit(x_train, y_train)\n",
    "    y_pred = knn.predict(x_test)\n",
    "    scores.append(metrics.accuracy_score(y_test, y_pred))\n",
    "    \n",
    "plt.plot(k_range, scores)\n",
    "plt.xlabel('Value of K for KNN')\n",
    "plt.ylabel('Testing Accuracy')"
   ]
  },
  {
   "cell_type": "markdown",
   "id": "4a65c426",
   "metadata": {},
   "source": [
    "The best K value is 5"
   ]
  },
  {
   "cell_type": "code",
   "execution_count": 42,
   "id": "70941b3e",
   "metadata": {},
   "outputs": [
    {
     "name": "stdout",
     "output_type": "stream",
     "text": [
      "Accuracy on test set: 0.797\n"
     ]
    }
   ],
   "source": [
    "knn = KNeighborsClassifier(n_neighbors=5, metric='euclidean')\n",
    "knn.fit(x_train, y_train)\n",
    "print(\"Accuracy on test set: {:.3f}\".format(knn.score(x_test, y_test)))"
   ]
  },
  {
   "cell_type": "markdown",
   "id": "cbf96cbc",
   "metadata": {},
   "source": [
    "### 2.1 KNN Learning Curve"
   ]
  },
  {
   "cell_type": "code",
   "execution_count": 43,
   "id": "056dec8f",
   "metadata": {},
   "outputs": [
    {
     "data": {
      "image/png": "[encoded data removed]",
      "text/plain": [
       "<Figure size 432x288 with 1 Axes>"
      ]
     },
     "metadata": {
      "needs_background": "light"
     },
     "output_type": "display_data"
    }
   ],
   "source": [
    "train_sizes, train_scores, test_scores = learning_curve(\n",
    "    estimator=knn,\n",
    "    X=x,\n",
    "    y=y,\n",
    "    cv=5,\n",
    "    scoring=\"accuracy\",\n",
    "    train_sizes = [0.2,0.4,0.6,0.8,1],\n",
    "    n_jobs = -1\n",
    ")\n",
    "train_mean = np.mean(train_scores, axis=1)\n",
    "train_std = np.std(train_scores, axis=1)\n",
    "\n",
    "test_mean = np.mean(test_scores, axis=1)\n",
    "test_std = np.std(test_scores, axis=1)\n",
    "\n",
    "fig=plt.figure()\n",
    "ax=fig.add_axes([0,0,1,1])\n",
    "ax.scatter(x=train_sizes,y= train_scores.mean(axis=1), color='b')\n",
    "ax.scatter(x=train_sizes,y=test_scores.mean(axis=1), color='r')\n",
    "ax.plot(train_sizes,train_scores.mean(axis=1), color='b')\n",
    "ax.plot(train_sizes,test_scores.mean(axis=1), color='r')\n",
    "ax.set_xlabel('Data Range')\n",
    "ax.set_ylabel('Accuracy')\n",
    "ax.set_title('Learning Curve')\n",
    "plt.show()"
   ]
  },
  {
   "cell_type": "markdown",
   "id": "43ba157b",
   "metadata": {},
   "source": [
    "### 3. Logistic Regression "
   ]
  },
  {
   "cell_type": "code",
   "execution_count": 44,
   "id": "004b6976",
   "metadata": {},
   "outputs": [
    {
     "data": {
      "text/plain": [
       "0.9578947368421052"
      ]
     },
     "execution_count": 44,
     "metadata": {},
     "output_type": "execute_result"
    }
   ],
   "source": [
    "lrmodel = LogisticRegression(C = 5,solver='lbfgs', max_iter=1000)\n",
    "lrmodel = lrmodel.fit(x_train, y_train)\n",
    "\n",
    "lrmodel.score(x_test, y_test)"
   ]
  },
  {
   "cell_type": "markdown",
   "id": "4292904f",
   "metadata": {},
   "source": [
    "### 3.1 Logistic Regression Learning Curve\n"
   ]
  },
  {
   "cell_type": "code",
   "execution_count": 45,
   "id": "e6c6eaf4",
   "metadata": {
    "scrolled": false
   },
   "outputs": [
    {
     "data": {
      "image/png": "[encoded data removed]",
      "text/plain": [
       "<Figure size 432x288 with 1 Axes>"
      ]
     },
     "metadata": {
      "needs_background": "light"
     },
     "output_type": "display_data"
    }
   ],
   "source": [
    "train_sizes, train_scores, test_scores = learning_curve(\n",
    "    estimator=lrmodel,\n",
    "    X=x,\n",
    "    y=y,\n",
    "    cv=5,\n",
    "    scoring=\"accuracy\",\n",
    "    n_jobs=-1,\n",
    "    train_sizes = [0.2,0.4,0.6,0.8,1],\n",
    ")\n",
    "train_mean = np.mean(train_scores, axis=1)\n",
    "train_std = np.std(train_scores, axis=1)\n",
    "\n",
    "test_mean = np.mean(test_scores, axis=1)\n",
    "test_std = np.std(test_scores, axis=1)\n",
    "\n",
    "fig=plt.figure()\n",
    "ax=fig.add_axes([0,0,1,1])\n",
    "ax.scatter(x=train_sizes,y= train_scores.mean(axis=1), color='b')\n",
    "ax.scatter(x=train_sizes,y=test_scores.mean(axis=1), color='r')\n",
    "ax.plot(train_sizes,train_scores.mean(axis=1), color='b')\n",
    "ax.plot(train_sizes,test_scores.mean(axis=1), color='r')\n",
    "ax.set_xlabel('Data Range')\n",
    "ax.set_ylabel('Accuracy')\n",
    "ax.set_title('Learning Curve')\n",
    "plt.show()"
   ]
  },
  {
   "cell_type": "markdown",
   "id": "aaf52a9e",
   "metadata": {},
   "source": [
    "### Model Testing (With Feature Selection)"
   ]
  },
  {
   "cell_type": "markdown",
   "id": "e557f8c5",
   "metadata": {},
   "source": [
    "Let's see if these models performed better with feature selection!"
   ]
  },
  {
   "cell_type": "markdown",
   "id": "2320f720",
   "metadata": {},
   "source": [
    "### 1. Decision Trees"
   ]
  },
  {
   "cell_type": "markdown",
   "id": "97385612",
   "metadata": {},
   "source": [
    "#### 1.1 Decision Tree Accuracy"
   ]
  },
  {
   "cell_type": "code",
   "execution_count": 46,
   "id": "1fe8d331",
   "metadata": {},
   "outputs": [
    {
     "name": "stdout",
     "output_type": "stream",
     "text": [
      "Accuracy on test set: 0.959\n"
     ]
    }
   ],
   "source": [
    "print(\"Accuracy on test set: {:.3f}\".format(dtree.score(x_test, y_test)))"
   ]
  },
  {
   "cell_type": "markdown",
   "id": "74eea0d7",
   "metadata": {},
   "source": [
    "#### 1.2 Decision Tree Confusion Matrix"
   ]
  },
  {
   "cell_type": "code",
   "execution_count": 47,
   "id": "7fc80664",
   "metadata": {},
   "outputs": [
    {
     "data": {
      "image/png": "[encoded data removed]",
      "text/plain": [
       "<Figure size 432x288 with 2 Axes>"
      ]
     },
     "metadata": {
      "needs_background": "light"
     },
     "output_type": "display_data"
    }
   ],
   "source": [
    "plot_confusion_matrix(dtree, x_test, y_test)  \n",
    "plt.title('Confussion Matrix')\n",
    "plt.show()"
   ]
  },
  {
   "cell_type": "markdown",
   "id": "ab1d59b6",
   "metadata": {},
   "source": [
    "#### 1.3 Decision Tree Classification Report"
   ]
  },
  {
   "cell_type": "code",
   "execution_count": 48,
   "id": "2f76d972",
   "metadata": {},
   "outputs": [
    {
     "name": "stdout",
     "output_type": "stream",
     "text": [
      "              precision    recall  f1-score   support\n",
      "\n",
      "      female       0.94      0.97      0.96       457\n",
      "        male       0.97      0.95      0.96       493\n",
      "\n",
      "    accuracy                           0.96       950\n",
      "   macro avg       0.96      0.96      0.96       950\n",
      "weighted avg       0.96      0.96      0.96       950\n",
      "\n"
     ]
    }
   ],
   "source": [
    "y_pred_dt = dtree.predict(x_test)\n",
    "cf_rep = classification_report(y_test, y_pred_dt,\n",
    "                            target_names=[\"female\", \"male\"])\n",
    "\n",
    "print(cf_rep)"
   ]
  },
  {
   "cell_type": "markdown",
   "id": "ab4fac71",
   "metadata": {},
   "source": [
    "### KNN"
   ]
  },
  {
   "cell_type": "markdown",
   "id": "25938cca",
   "metadata": {},
   "source": [
    "#### 2.1 KNN Accuracy"
   ]
  },
  {
   "cell_type": "code",
   "execution_count": 49,
   "id": "8f5cecdc",
   "metadata": {},
   "outputs": [
    {
     "name": "stdout",
     "output_type": "stream",
     "text": [
      "Accuracy on test set: 0.797\n"
     ]
    }
   ],
   "source": [
    "print(\"Accuracy on test set: {:.3f}\".format(knn.score(x_test, y_test)))"
   ]
  },
  {
   "cell_type": "markdown",
   "id": "f2c38636",
   "metadata": {},
   "source": [
    "#### 2.2 KNN Confusion Matrix"
   ]
  },
  {
   "cell_type": "code",
   "execution_count": 50,
   "id": "290a2331",
   "metadata": {},
   "outputs": [
    {
     "data": {
      "image/png": "[encoded data removed]",
      "text/plain": [
       "<Figure size 432x288 with 2 Axes>"
      ]
     },
     "metadata": {
      "needs_background": "light"
     },
     "output_type": "display_data"
    }
   ],
   "source": [
    "plot_confusion_matrix(knn, x_test, y_test)  \n",
    "plt.title('Confussion Matrix')\n",
    "plt.show()"
   ]
  },
  {
   "cell_type": "markdown",
   "id": "9c8353af",
   "metadata": {},
   "source": [
    "#### 2.3 KNN Classification Report"
   ]
  },
  {
   "cell_type": "code",
   "execution_count": 51,
   "id": "8cc8c85d",
   "metadata": {},
   "outputs": [
    {
     "name": "stdout",
     "output_type": "stream",
     "text": [
      "              precision    recall  f1-score   support\n",
      "\n",
      "      female       0.79      0.79      0.79       457\n",
      "        male       0.80      0.81      0.80       493\n",
      "\n",
      "    accuracy                           0.80       950\n",
      "   macro avg       0.80      0.80      0.80       950\n",
      "weighted avg       0.80      0.80      0.80       950\n",
      "\n"
     ]
    }
   ],
   "source": [
    "y_pred_knn = knn.predict(x_test)\n",
    "cf_rep = classification_report(y_test, y_pred_knn,\n",
    "                            target_names=[\"female\", \"male\"])\n",
    "\n",
    "print(cf_rep)"
   ]
  },
  {
   "cell_type": "markdown",
   "id": "ec33506a",
   "metadata": {},
   "source": [
    "### Logistic Regression"
   ]
  },
  {
   "cell_type": "markdown",
   "id": "3863c852",
   "metadata": {},
   "source": [
    "#### 3.1 Logistic Regression Accuracy"
   ]
  },
  {
   "cell_type": "code",
   "execution_count": 52,
   "id": "013f07e4",
   "metadata": {},
   "outputs": [
    {
     "name": "stdout",
     "output_type": "stream",
     "text": [
      "Accuracy : 0.9578947368421052\n"
     ]
    }
   ],
   "source": [
    "print (\"Accuracy :\", metrics.accuracy_score(y_test, lrmodel.predict(x_test)))"
   ]
  },
  {
   "cell_type": "markdown",
   "id": "75033147",
   "metadata": {},
   "source": [
    "#### 3.2 Logistic Regression Confusion Matrix"
   ]
  },
  {
   "cell_type": "code",
   "execution_count": 53,
   "id": "d435c14c",
   "metadata": {},
   "outputs": [
    {
     "data": {
      "image/png": "[encoded data removed]",
      "text/plain": [
       "<Figure size 432x288 with 2 Axes>"
      ]
     },
     "metadata": {
      "needs_background": "light"
     },
     "output_type": "display_data"
    }
   ],
   "source": [
    "plot_confusion_matrix(lrmodel, x_test, y_test)  \n",
    "plt.title('Confussion Matrix')\n",
    "plt.show()"
   ]
  },
  {
   "cell_type": "markdown",
   "id": "5a96ccbb",
   "metadata": {},
   "source": [
    "#### 3.3 Logistic Regression Classification Report"
   ]
  },
  {
   "cell_type": "code",
   "execution_count": 54,
   "id": "288ad8ff",
   "metadata": {},
   "outputs": [
    {
     "name": "stdout",
     "output_type": "stream",
     "text": [
      "              precision    recall  f1-score   support\n",
      "\n",
      "      female       0.97      0.94      0.96       457\n",
      "        male       0.94      0.98      0.96       493\n",
      "\n",
      "    accuracy                           0.96       950\n",
      "   macro avg       0.96      0.96      0.96       950\n",
      "weighted avg       0.96      0.96      0.96       950\n",
      "\n"
     ]
    }
   ],
   "source": [
    "y_pred_lr = lrmodel.predict(x_test)\n",
    "cf_rep = classification_report(y_test, y_pred_lr,\n",
    "                            target_names=[\"female\", \"male\"])\n",
    "\n",
    "print(cf_rep)"
   ]
  },
  {
   "cell_type": "markdown",
   "id": "474ab142",
   "metadata": {},
   "source": [
    "### Comparison And Analysis of Results"
   ]
  },
  {
   "cell_type": "markdown",
   "id": "eeb4f0e0",
   "metadata": {},
   "source": [
    "### 1. Decision Trees"
   ]
  },
  {
   "cell_type": "markdown",
   "id": "6fd18a00",
   "metadata": {},
   "source": [
    "#### 1.1 Decision Tree With No Feature Selection"
   ]
  },
  {
   "cell_type": "markdown",
   "id": "09972d8a",
   "metadata": {},
   "source": [
    "Accuracy: 97.2%\n",
    "\n",
    "Confusion Matrix:\n",
    "\n",
    "TP:445 FP:12\n",
    "\n",
    "FN:24 TN:469\n",
    "\n",
    "Classification Report:\n",
    "\n",
    "\n",
    "                  precision    recall  f1-score   support\n",
    "\n",
    "          female       0.95      0.97      0.96       457\n",
    "            male       0.98      0.95      0.96       493\n",
    "\n",
    "        accuracy                           0.96       950\n",
    "       macro avg       0.96      0.96      0.96       950\n",
    "    weighted avg       0.96      0.96      0.96       950"
   ]
  },
  {
   "cell_type": "markdown",
   "id": "08e1f675",
   "metadata": {},
   "source": [
    "#### 1.2 Decision Tree Feature Selection"
   ]
  },
  {
   "cell_type": "markdown",
   "id": "94cd6b81",
   "metadata": {},
   "source": [
    "Accuracy: 95.9%\n",
    "\n",
    "Confusion Matrix:\n",
    "\n",
    "TP:440 FP:17\n",
    "\n",
    "FN:15 TN:478\n",
    "\n",
    "\n",
    "Classification Report:\n",
    "\n",
    "                  precision    recall  f1-score   support\n",
    "\n",
    "          female       0.97      0.96      0.96       457\n",
    "            male       0.97      0.97      0.97       493\n",
    "\n",
    "        accuracy                           0.97       950\n",
    "       macro avg       0.97      0.97      0.97       950\n",
    "    weighted avg       0.97      0.97      0.97       950"
   ]
  },
  {
   "cell_type": "markdown",
   "id": "c4dcdb02",
   "metadata": {},
   "source": [
    "There was a 1% increase in terms of accuracy before FS was applied.\n",
    "\n",
    "The Confusion Matrix for the model with FS was better at identifying True Negatives.\n",
    "\n",
    "The Classification Reports are almost identical for the two models."
   ]
  },
  {
   "cell_type": "markdown",
   "id": "196cfb40",
   "metadata": {},
   "source": [
    "### 2. KNN"
   ]
  },
  {
   "cell_type": "markdown",
   "id": "3097fb73",
   "metadata": {},
   "source": [
    "#### 2.1 KNN With No Feature Selection"
   ]
  },
  {
   "cell_type": "markdown",
   "id": "73409d22",
   "metadata": {},
   "source": [
    "Accuracy: 69.5%\n",
    "\n",
    "Confusion Matrix:\n",
    "\n",
    "TP:307 FP:150\n",
    "\n",
    "FN:140 TN:353\n",
    "\n",
    "Classification Report:\n",
    "\n",
    "                  precision    recall  f1-score   support\n",
    "\n",
    "          female       0.69      0.67      0.68       457\n",
    "            male       0.70      0.72      0.71       493\n",
    "\n",
    "        accuracy                           0.69       950\n",
    "       macro avg       0.69      0.69      0.69       950\n",
    "    weighted avg       0.69      0.69      0.69       950"
   ]
  },
  {
   "cell_type": "markdown",
   "id": "80ebd748",
   "metadata": {},
   "source": [
    "#### 2.2 KNN With Feature Selection"
   ]
  },
  {
   "cell_type": "markdown",
   "id": "0f0d344f",
   "metadata": {},
   "source": [
    "Accuracy: 79.7%\n",
    "\n",
    "Confusion Matrix:\n",
    "\n",
    "TP:360 FP:97\n",
    "\n",
    "FN:96 TN:397  \n",
    "\n",
    "Classification Report:\n",
    "\n",
    "                  precision    recall  f1-score   support\n",
    "\n",
    "          female       0.79      0.79      0.79       457\n",
    "            male       0.80      0.81      0.80       493\n",
    "\n",
    "        accuracy                           0.80       950\n",
    "       macro avg       0.80      0.80      0.80       950\n",
    "    weighted avg       0.80      0.80      0.80       950"
   ]
  },
  {
   "cell_type": "markdown",
   "id": "0c5b5f5b",
   "metadata": {},
   "source": [
    "The accuracy for KNNs went up by 10.2% after FS. However, it is difficult to compare KNN models as the value of K is the main driver of accuracy for this particular algorithm.\n",
    "\n",
    "The Confusion Matrix for the model with FS was able to classify more TPs and TNs, which classifying less FPs and FNs. So overall, the confusion matrix was better with FS.\n",
    "\n",
    "In the Classification Reports, the support values stayed the same. However, the f1-score, recall score, and percision score were higher for the model with FS."
   ]
  },
  {
   "cell_type": "markdown",
   "id": "55a3acaa",
   "metadata": {},
   "source": [
    "### 3. Logistic Regression"
   ]
  },
  {
   "cell_type": "markdown",
   "id": "f61e5cdc",
   "metadata": {},
   "source": [
    "#### 3.1 Logistic Regression With No Feature Selection"
   ]
  },
  {
   "cell_type": "markdown",
   "id": "3bd51440",
   "metadata": {},
   "source": [
    "Accuracy: 95.5%\n",
    "\n",
    "Confusion Matrix:\n",
    "\n",
    "TP:422 FP:35\n",
    "\n",
    "FN:8 TN:485\n",
    "\n",
    "Classification Report:\n",
    "\n",
    "                  precision    recall  f1-score   support\n",
    "\n",
    "          female       0.98      0.92      0.95       457\n",
    "            male       0.93      0.98      0.96       493\n",
    "\n",
    "        accuracy                           0.95       950\n",
    "       macro avg       0.96      0.95      0.95       950\n",
    "    weighted avg       0.96      0.95      0.95       950"
   ]
  },
  {
   "cell_type": "markdown",
   "id": "70b90e14",
   "metadata": {},
   "source": [
    "#### 3.2 Logistic Regression With Feature Selection"
   ]
  },
  {
   "cell_type": "markdown",
   "id": "1476f870",
   "metadata": {},
   "source": [
    "Accuracy: 95.7%\n",
    "\n",
    "Confusion Matrix:\n",
    "\n",
    "TP:428 FP:29\n",
    "\n",
    "FN:11 TN:482\n",
    "\n",
    "Classification Report:\n",
    "\n",
    "                  precision    recall  f1-score   support\n",
    "\n",
    "          female       0.97      0.94      0.96       457\n",
    "            male       0.94      0.98      0.96       493\n",
    "\n",
    "        accuracy                           0.96       950\n",
    "       macro avg       0.96      0.96      0.96       950\n",
    "    weighted avg       0.96      0.96      0.96       950"
   ]
  },
  {
   "cell_type": "markdown",
   "id": "592c8cf1",
   "metadata": {},
   "source": [
    "Much like the Decision Tree models, the accuracies are almost identical.\n",
    "\n",
    "The Confusion Matrix had small differences.\n",
    "\n",
    "In the Classification Reports were almost identical for the two models."
   ]
  },
  {
   "cell_type": "markdown",
   "id": "3f6c0194",
   "metadata": {},
   "source": [
    "#### 4. Important Notes, and Limitations"
   ]
  },
  {
   "cell_type": "markdown",
   "id": "f110a085",
   "metadata": {},
   "source": [
    "It is important to make note of these observations and limitations:\n",
    "\n",
    "1. Only one feature selection method (filtering) was used, and one of the disadvantages of using this method, is that it does not consider the relationships that certain features may have with other ones. Therefore, the method may remove some features that depend on each other. Also, the method does not take into consideration the features' interaction with the classifier, and may therefore work better with some algorithms than others.\n",
    "\n",
    "\n",
    "2. The mean fundamental frequency for the dataset did not have its outliers removed, as I had an assumption set for the data that these outliers are important, and they may be an indication of a diverse age range for the speakers.\n",
    "\n",
    "\n",
    "3. Only three algorithms were tested. Whereas some other algorithms that work better with many features (support vector machines), or algorithms that consider multiple decision trees (random forest) could work better for this particular problem.\n",
    "\n",
    "\n",
    "4. KNN performed better with feature selection, whereas decision tree, and logistic regression stayed the same after feature selection. Also, decision tree, and logistic regression were more accurate in both cases, than KNN. This leads me to believe that a different feature selection method could have improved the KNN's performance more. However, without feature selection, the KNN achieved the lowest accuracy out of all the models. This leads to believe that the KNN is too error-prone, even with feature selection, and that the K value is more impactful for optimizing a KNN model.\n",
    "\n",
    "\n",
    "5. Decision Tree, with and without feature selection, had the highest two accuracies out of all the models. Although decision trees are more sensitive to small differences in data, it was able to reach a high accuracy, as the max depth parameter was limited to four, therefore allowing the tree to create many leaf nodes to classify more accurately (max depth was chosen based on trial and error)."
   ]
  },
  {
   "cell_type": "markdown",
   "id": "1daa6daf",
   "metadata": {},
   "source": [
    "### Conclusion\n"
   ]
  },
  {
   "cell_type": "markdown",
   "id": "49718f38",
   "metadata": {},
   "source": [
    "Based on the results of the models, and my analysis:\n",
    "\n",
    "* Removing outliers for mean frequencies and mean fundamental frequencies can produce less accurate results, as these values rely on a multitude of factors, which cannot be measured with the current feature set.\n",
    "\n",
    "* Decision Tree was the best algorithm for this problem.\n",
    "\n",
    "* KNN may have performance on a different feature selection method.\n",
    "\n",
    "* It is crucial to compare models before and after feature selection, as some irrelevant features can cause some models to perform worse. "
   ]
  }
 ],
 "metadata": {
  "kernelspec": {
   "display_name": "Python 3 (ipykernel)",
   "language": "python",
   "name": "python3"
  },
  "language_info": {
   "codemirror_mode": {
    "name": "ipython",
    "version": 3
   },
   "file_extension": ".py",
   "mimetype": "text/x-python",
   "name": "python",
   "nbconvert_exporter": "python",
   "pygments_lexer": "ipython3",
   "version": "3.9.7"
  }
 },
 "nbformat": 4,
 "nbformat_minor": 5
}
